{
 "cells": [
  {
   "cell_type": "code",
   "execution_count": 3,
   "metadata": {},
   "outputs": [],
   "source": [
    "import matplotlib.pyplot as plt\n",
    "import itertools as it\n",
    "import sys\n",
    "sys.path.append('../')\n",
    "import src\n",
    "from src import environment as env\n",
    "from src import resolution as res\n",
    "%reload_ext autoreload\n",
    "%autoreload 2\n",
    "from IPython.display import Image"
   ]
  },
  {
   "cell_type": "code",
   "execution_count": 2,
   "metadata": {},
   "outputs": [],
   "source": [
    "from graphviz import Digraph\n",
    "# Create Digraph object\n",
    "dot = Digraph()"
   ]
  },
  {
   "cell_type": "code",
   "execution_count": null,
   "metadata": {},
   "outputs": [],
   "source": []
  },
  {
   "cell_type": "code",
   "execution_count": 2,
   "metadata": {},
   "outputs": [
    {
     "data": {
      "image/png": "[encoded data removed]",
      "text/plain": [
       "<Figure size 432x432 with 1 Axes>"
      ]
     },
     "metadata": {
      "needs_background": "light"
     },
     "output_type": "display_data"
    }
   ],
   "source": [
    "from matplotlib import pyplot as plt\n",
    "from matplotlib import colors\n",
    "data = [[0,0,0,0,0,1,1,1,1,0],\n",
    "[0,0,0,0,0,1,0,0,1,0],\n",
    "[0,0,1,0,1,0,1,1,0,0],\n",
    "[0,0,1,0,0,1,1,0,1,0],\n",
    "[0,0,1,0,1,0,0,1,1,0],\n",
    "[1,0,0,1,0,1,0,0,1,0],\n",
    "[0,1,0,0,0,1,1,1,1,1],\n",
    "[0,1,0,0,0,0,1,1,1,1],\n",
    "[1,0,0,0,1,1,1,0,1,0],\n",
    "[1,1,1,1,0,0,0,1,1,0]]\n",
    "cmap = colors.ListedColormap(['Blue','red'])\n",
    "plt.figure(figsize=(6,6))\n",
    "plt.pcolor(data[::-1],cmap=cmap,edgecolors='k', linewidths=3)\n",
    "plt.show()"
   ]
  },
  {
   "cell_type": "code",
   "execution_count": 2,
   "metadata": {},
   "outputs": [
    {
     "name": "stdout",
     "output_type": "stream",
     "text": [
      "[None, None, None]\n"
     ]
    }
   ],
   "source": [
    "toto = []\n",
    "for i in range(3):\n",
    "    toto.append(None)\n",
    "print(toto)"
   ]
  },
  {
   "cell_type": "code",
   "execution_count": 63,
   "metadata": {},
   "outputs": [],
   "source": [
    "hanna = env.World(10)\n",
    "agents = hanna.create_agents([(3,8),(6,5),(9,3)])\n",
    "objects = hanna.create_objects([(3,6),(6,8),(5,6),(6,4),(8,3),(9,5)])\n",
    "d = 4\n",
    "greaterValue = 2\n",
    "#print(agents)\n",
    "#print(objects)\n",
    "\n",
    "#Z,agents_visible_objects = res.perception(agents,objects,d)\n",
    "\n",
    "agents_visible_objects = res.perception(agents,objects,d)\n",
    "Z = res.set_Z(agents_visible_objects)\n",
    "min_path = res.tour((3,8),[(5, 6), (6, 8), (3, 6)])\n",
    "#min_path = res.tour((6,5),[(5, 6), (6, 8), (3, 6)])\n",
    "#min_path = res.tour((6,5),[(6, 4), (8, 3), (9, 5)])\n",
    "#min_path = res.tour((9,3),[(6, 4), (8, 3), (9, 5)])\n",
    "max_path = res.biggestTour(Z,agents)\n",
    "\n",
    "#print(agents)\n",
    "#print(agents_visible_objects)\n",
    "#print(Z)\n",
    "#print(min_path)\n",
    "#print(max_path)\n",
    "res.negotiation(agents,objects,d,greaterValue)"
   ]
  },
  {
   "cell_type": "code",
   "execution_count": 137,
   "metadata": {},
   "outputs": [
    {
     "name": "stdout",
     "output_type": "stream",
     "text": [
      "agents : {1: (3, 8), 2: (6, 5), 3: (9, 3)}\n",
      "objets : {1: (3, 6), 2: (6, 8), 3: (5, 6), 4: (6, 4), 5: (8, 3), 6: (9, 5)}\n",
      "distance d : 4\n",
      "valeur supplémantaire : 2\n",
      "agents_visible_objects : {1: [(3, 6), (6, 8), (5, 6)], 2: [(3, 6), (6, 8), (5, 6), (6, 4), (8, 3), (9, 5)], 3: [(6, 4), (8, 3), (9, 5)]}\n",
      "Z : {(1, 2): [(5, 6), (6, 8), (3, 6)], (2, 3): [(6, 4), (8, 3), (9, 5)]}\n",
      "biggestTour : 8\n",
      "greaterValue : 10\n",
      "conflict_point : [3, 2]\n",
      "z_value : [(5, 6), (6, 8), (3, 6)]\n",
      "allocation : ((1, 2, 3), ())\n",
      "allocation 1: (1, 2, 3)\n",
      "allocation 2: ()\n",
      "objects_agent_1 : [(3, 6), (6, 8), (5, 6)]\n",
      "objects_agent_2 : []\n",
      "7\n",
      "allocation : ((1, 3), (2,))\n",
      "allocation 1: (1, 3)\n",
      "allocation 2: (2,)\n",
      "objects_agent_1 : [(3, 6), (5, 6)]\n",
      "objects_agent_2 : [(6, 8)]\n",
      "4\n",
      "allocation : ((), (1, 2, 3))\n",
      "allocation 1: ()\n",
      "allocation 2: (1, 2, 3)\n",
      "objects_agent_1 : []\n",
      "objects_agent_2 : [(3, 6), (6, 8), (5, 6)]\n",
      "0\n",
      "allocation : ((2,), (1, 3))\n",
      "allocation 1: (2,)\n",
      "allocation 2: (1, 3)\n",
      "objects_agent_1 : [(6, 8)]\n",
      "objects_agent_2 : [(3, 6), (5, 6)]\n",
      "3\n",
      "allocation : ((1,), (2, 3))\n",
      "allocation 1: (1,)\n",
      "allocation 2: (2, 3)\n",
      "objects_agent_1 : [(3, 6)]\n",
      "objects_agent_2 : [(6, 8), (5, 6)]\n",
      "2\n",
      "allocations : {((1, 2, 3), ()): (3, 10), ((1, 3), (2,)): (6, 7), ((), (1, 2, 3)): (10, 2), ((2,), (1, 3)): (7, 6), ((1,), (2, 3)): (8, 5)}\n",
      "fdp\n",
      "((), (1, 2, 3))\n"
     ]
    }
   ],
   "source": [
    "hanna = env.World(10)\n",
    "agents = hanna.create_agents([(3,8),(6,5),(9,3)])\n",
    "objects = hanna.create_objects([(3,6),(6,8),(5,6),(6,4),(8,3),(9,5)])\n",
    "d = 4\n",
    "greaterValue = 2\n",
    "res.negotiation(agents,objects,d,greaterValue)"
   ]
  }
 ],
 "metadata": {
  "kernelspec": {
   "display_name": "Python 3",
   "language": "python",
   "name": "python3"
  },
  "language_info": {
   "codemirror_mode": {
    "name": "ipython",
    "version": 3
   },
   "file_extension": ".py",
   "mimetype": "text/x-python",
   "name": "python",
   "nbconvert_exporter": "python",
   "pygments_lexer": "ipython3",
   "version": "3.7.9"
  }
 },
 "nbformat": 4,
 "nbformat_minor": 4
}
