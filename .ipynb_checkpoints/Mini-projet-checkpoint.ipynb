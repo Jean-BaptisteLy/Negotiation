{
 "cells": [
  {
   "cell_type": "markdown",
   "metadata": {},
   "source": [
    "# Mini-projet : Monotonic Concession Protocol"
   ]
  },
  {
   "cell_type": "markdown",
   "metadata": {},
   "source": [
    "LY Jean-Baptiste - OSUNA Pamela"
   ]
  },
  {
   "cell_type": "code",
   "execution_count": 3,
   "metadata": {},
   "outputs": [],
   "source": [
    "import matplotlib.pyplot as plt\n",
    "import itertools as it\n",
    "import sys\n",
    "sys.path.append('../')\n",
    "import src\n",
    "from src import environment as env\n",
    "from src import bilateral as bi\n",
    "from src import multilateral as multi\n",
    "from graphviz import Digraph\n",
    "%reload_ext autoreload\n",
    "%autoreload 2\n",
    "from IPython.display import Image"
   ]
  },
  {
   "cell_type": "markdown",
   "metadata": {},
   "source": [
    "## Monotonic Concession Protocols for Bilateral Negotiation"
   ]
  },
  {
   "cell_type": "markdown",
   "metadata": {},
   "source": [
    "The strategy is also “almost” stable (i.e. in Nash equilibrium [9]). The only critical case is when both agents have\n",
    "the same willingness to risk conflict after the penultimate\n",
    "round. In that case, an agent could benefit from deviating\n",
    "and sticking to their latest proposal. This problem can be\n",
    "overcome by extending the Zeuthen strategy with a mixed\n",
    "equilibrium strategy for the two-person game induced by\n",
    "this “last step situation”, albeit at the cost of giving up on\n",
    "efficiency [9, 10]."
   ]
  },
  {
   "cell_type": "code",
   "execution_count": 129,
   "metadata": {
    "scrolled": true
   },
   "outputs": [
    {
     "data": {
      "image/png": "[encoded data removed]",
      "text/plain": [
       "<Figure size 432x432 with 1 Axes>"
      ]
     },
     "metadata": {
      "needs_background": "light"
     },
     "output_type": "display_data"
    },
    {
     "name": "stdout",
     "output_type": "stream",
     "text": [
      "Caractéristiques du problème :\n",
      "\n",
      "Agents : {1: (3, 8), 2: (6, 5), 3: (9, 3)}\n",
      "Objets : {1: (3, 6), 2: (6, 8), 3: (5, 6), 4: (6, 4), 5: (8, 3), 6: (9, 5)}\n",
      "Distance de perception des agents : 4\n",
      "Objets visibles par les agents : {1: [(3, 6), (6, 8), (5, 6)], 2: [(3, 6), (6, 8), (5, 6), (6, 4), (8, 3), (9, 5)], 3: [(6, 4), (8, 3), (9, 5)]}\n",
      "Ensembles Z : {(1, 2): [(5, 6), (6, 8), (3, 6)], (2, 3): [(6, 4), (8, 3), (9, 5)]}\n",
      "Coût de la plus grande tournée : 8\n",
      "Valeur supplémantaire ajoutée à : 2\n",
      "Valeur plus grande que le coût de la plus grande tournée possible : 10\n",
      "\n",
      "-----------------------------------------------------------------------\n",
      "Négociation par Monotonic Concession Protocol entre les agents 1 et 2 :\n",
      "-----------------------------------------------------------------------\n",
      "Point de conflit : [3, 2]\n",
      "Allocation avec bargaining :\n",
      "{((3, 2, 1), ()): (3, 10), ((3, 1), (2,)): (6, 7), ((2,), (3, 1)): (7, 6), ((1,), (3, 2)): (8, 5), ((), (3, 2, 1)): (10, 2)}\n",
      "Round 1 :\n",
      "L'agent 1 et l'agent 2 concèdent.\n",
      "Round 2 :\n",
      "L'agent 1 et l'agent 2 concèdent.\n",
      "Round 3 :\n",
      "L'agent 1 et l'agent 2 concèdent.\n",
      "u1a2 >= u1a1 and u2a1 >= u2a2\n",
      "flip a coin because both agents agree\n",
      "agreement : [((2,), (3, 1)), 7, 6]\n",
      "nash_products : 16\n",
      "-------------------------------------------------------------------------------------------------------\n",
      "Négociation entre les agents 1 et 2 :\n",
      "round \t\toffer_a1 \t\toffer_a2 \t\tu1a1,u1a2 \tu2a1,u2a2   z1  z2\n",
      "1\t\t((), (3, 2, 1))\t\t((3, 2, 1), ())\t\t(10, 3)\t\t(2, 10)  1.0  1.0\n",
      "2\t\t((1,), (3, 2))\t\t((3, 1), (2,))\t\t(8, 6)\t\t(5, 7)  0.4  0.4\n",
      "3\t\t((2,), (3, 1))\t\t((2,), (3, 1))\t\t(7, 7)\t\t(6, 6)  0.0  0.0\n",
      "-------------------------------------------------------------------------------------------------------\n",
      "\n",
      "\n",
      "-----------------------------------------------------------------------\n",
      "Négociation par Monotonic Concession Protocol entre les agents 2 et 3 :\n",
      "-----------------------------------------------------------------------\n",
      "Point de conflit : [6, 2]\n",
      "Allocation avec bargaining :\n",
      "{((4, 5, 6), ()): (3, 10), ((4, 5), (6,)): (6, 8), ((4, 6), (5,)): (5, 9), ((4,), (5, 6)): (9, 6), ((), (4, 5, 6)): (10, 2)}\n",
      "Round 1 :\n",
      "L'agent 3 concède.\n",
      "Round 2 :\n",
      "Agent 3 : Mauvaise concession ! Je ne concède pas ((4, 6), (5,)) !\n",
      "Round 2 :\n",
      "L'agent 2 et l'agent 3 concèdent.\n",
      "Round 3 :\n",
      "L'agent 3 concède.\n",
      "Round 4 :\n",
      "L'agent 2 et l'agent 3 concèdent.\n",
      "u1a2 >= u1a1 and u2a1 >= u2a2\n",
      "flip a coin because both agents agree\n",
      "agreement : [((4,), (5, 6)), 9, 6]\n",
      "nash_products : 12\n",
      "-------------------------------------------------------------------------------------------------------\n",
      "Négociation entre les agents 2 et 3 :\n",
      "round \t\toffer_a2 \t\toffer_a3 \t\tu2a2,u2a3 \tu3a2,u3a3   z2  z3\n",
      "1\t\t((), (4, 5, 6))\t\t((4, 5, 6), ())\t\t(10, 3)\t\t(2, 10)  1.75  1.0\n",
      "2\t\t((), (4, 5, 6))\t\t((4, 5), (6,))\t\t(10, 6)\t\t(2, 8)  1.0  1.0\n",
      "3\t\t((4,), (5, 6))\t\t((4, 6), (5,))\t\t(9, 5)\t\t(6, 9)  1.3333333333333333  0.42857142857142855\n",
      "4\t\t((4,), (5, 6))\t\t((4,), (5, 6))\t\t(9, 9)\t\t(6, 6)  0.0  0.0\n",
      "-------------------------------------------------------------------------------------------------------\n",
      "\n",
      "\n",
      "Balanced outcome. End.\n"
     ]
    }
   ],
   "source": [
    "line = env.World(10)\n",
    "agents_line = line.create_agents([(3,8),(6,5),(9,3)])\n",
    "objects_line = line.create_objects([(3,6),(6,8),(5,6),(6,4),(8,3),(9,5)])\n",
    "greaterValue_line = 2\n",
    "line.display_grid()\n",
    "d_line = 4\n",
    "bi.negotiation(line,d_line,greaterValue_line)"
   ]
  },
  {
   "cell_type": "code",
   "execution_count": 130,
   "metadata": {},
   "outputs": [
    {
     "name": "stdout",
     "output_type": "stream",
     "text": [
      "Caractéristiques du problème :\n",
      "\n",
      "Agents : {1: (3, 8), 2: (6, 5), 3: (9, 3)}\n",
      "Objets : {1: (3, 6), 2: (6, 8), 3: (5, 6), 4: (6, 4), 5: (8, 3), 6: (9, 5)}\n",
      "Distance de perception des agents : 4\n",
      "Objets visibles par les agents : {1: [(3, 6), (6, 8), (5, 6)], 2: [(3, 6), (6, 8), (5, 6), (6, 4), (8, 3), (9, 5)], 3: [(6, 4), (8, 3), (9, 5)]}\n",
      "Ensembles Z : {(1, 2): {(5, 6), (6, 8), (3, 6)}, (2, 3): {(6, 4), (8, 3), (9, 5)}}\n",
      "Coût de la plus grande tournée : 8\n",
      "Valeur supplémantaire ajoutée à : 2\n",
      "Valeur plus grande que le coût de la plus grande tournée possible : 10\n",
      "\n",
      "-----------------------------------------------------------------------\n",
      "Négociation par Monotonic Concession Protocol entre les agents (1, 2) :\n",
      "-----------------------------------------------------------------------\n",
      "Point de conflit : [3, 2]\n",
      "tasks : [3, 2, 1]\n",
      "Allocation avec bargaining :\n",
      "{((3, 2, 1), ()): [3, 10], ((3, 1), (2,)): [6, 7], ((2,), (3, 1)): [7, 6], ((1,), (3, 2)): [8, 5], ((), (3, 2, 1)): [10, 2]}\n",
      "Round 1 :\n",
      "Les agents [0, 1] concèdent.\n",
      "Round 2 :\n",
      "{((3, 2, 1), ()): [3, 10], ((3, 1), (2,)): [6, 7], ((2,), (3, 1)): [7, 6], ((1,), (3, 2)): [8, 5]}\n",
      "{((3, 1), (2,)): [6, 7], ((2,), (3, 1)): [7, 6], ((1,), (3, 2)): [8, 5], ((), (3, 2, 1)): [10, 2]}\n",
      "offers : [((1,), (3, 2)), ((3, 1), (2,))]\n",
      "Les agents [0, 1] concèdent.\n",
      "Round 3 :\n",
      "{((3, 2, 1), ()): [3, 10], ((3, 1), (2,)): [6, 7], ((2,), (3, 1)): [7, 6]}\n",
      "{((2,), (3, 1)): [7, 6], ((1,), (3, 2)): [8, 5], ((), (3, 2, 1)): [10, 2]}\n",
      "offers : [((2,), (3, 1)), ((2,), (3, 1))]\n",
      "Les agents [0, 1] concèdent.\n",
      "on fait un flip dice sur ces agents qui possèdent les meilleures offres :\n",
      "best_agents_ offers : [0, 1]\n",
      "agreement : [((2,), (3, 1)), 7, 6]\n",
      "nash_products : 16\n",
      "z_key : (1, 2)\n",
      "-------------------------------------------------------------------------------------------------------\n",
      "Négociation entre les agents (1, 2) :\n",
      "round         offer_a1        offer_a2        u1a1,u1a2   u2a1,u2a2   z1  z2\n",
      "1      ((), (3, 2, 1))       ((3, 2, 1), ())       (10, 3)        (2, 10)  1.0  1.0\n",
      "2      ((1,), (3, 2))       ((3, 1), (2,))       (8, 6)        (5, 7)  0.4  0.4\n",
      "3      ((2,), (3, 1))       ((2,), (3, 1))       (7, 7)        (6, 6)  0.0  0.0\n",
      "-------------------------------------------------------------------------------------------------------\n",
      "\n",
      "\n",
      "-----------------------------------------------------------------------\n",
      "Négociation par Monotonic Concession Protocol entre les agents (2, 3) :\n",
      "-----------------------------------------------------------------------\n",
      "Point de conflit : [6, 2]\n",
      "tasks : [4, 5, 6]\n",
      "Allocation avec bargaining :\n",
      "{((4, 5, 6), ()): [3, 10], ((4, 5), (6,)): [6, 8], ((4, 6), (5,)): [5, 9], ((4,), (5, 6)): [9, 6], ((), (4, 5, 6)): [10, 2]}\n",
      "Round 1 :\n",
      "Les agents [1] concèdent.\n",
      "Round 2 :\n",
      "{((4, 5, 6), ()): [3, 10], ((4, 5), (6,)): [6, 8], ((4, 6), (5,)): [5, 9], ((4,), (5, 6)): [9, 6], ((), (4, 5, 6)): [10, 2]}\n",
      "{((4, 5), (6,)): [6, 8], ((4, 6), (5,)): [5, 9], ((4,), (5, 6)): [9, 6], ((), (4, 5, 6)): [10, 2]}\n",
      "offers : [((), (4, 5, 6)), ((4, 6), (5,))]\n",
      "Les agents [1] concèdent.\n",
      "Round 3 :\n",
      "{((4, 5, 6), ()): [3, 10], ((4, 5), (6,)): [6, 8], ((4, 6), (5,)): [5, 9], ((4,), (5, 6)): [9, 6], ((), (4, 5, 6)): [10, 2]}\n",
      "{((4, 5), (6,)): [6, 8], ((4,), (5, 6)): [9, 6], ((), (4, 5, 6)): [10, 2]}\n",
      "offers : [((), (4, 5, 6)), ((4, 5), (6,))]\n",
      "Les agents [0, 1] concèdent.\n",
      "Round 4 :\n",
      "{((4, 5, 6), ()): [3, 10], ((4, 5), (6,)): [6, 8], ((4, 6), (5,)): [5, 9], ((4,), (5, 6)): [9, 6]}\n",
      "{((4,), (5, 6)): [9, 6], ((), (4, 5, 6)): [10, 2]}\n",
      "offers : [((4,), (5, 6)), ((4,), (5, 6))]\n",
      "Les agents [0, 1] concèdent.\n",
      "on fait un flip dice sur ces agents qui possèdent les meilleures offres :\n",
      "best_agents_ offers : [0, 1]\n",
      "agreement : [((4,), (5, 6)), 9, 6]\n",
      "nash_products : 12\n",
      "z_key : (2, 3)\n",
      "-------------------------------------------------------------------------------------------------------\n",
      "Négociation entre les agents (2, 3) :\n",
      "round         offer_a2        offer_a3        u2a2,u2a3   u3a2,u3a3   z2  z3\n",
      "1      ((), (4, 5, 6))       ((4, 5, 6), ())       (10, 3)        (2, 10)  1.75  1.0\n",
      "2      ((), (4, 5, 6))       ((4, 6), (5,))       (10, 5)        (2, 9)  1.25  1.0\n",
      "3      ((), (4, 5, 6))       ((4, 5), (6,))       (10, 6)        (2, 8)  1.0  1.0\n",
      "4      ((4,), (5, 6))       ((4,), (5, 6))       (9, 9)        (6, 6)  0.0  0.0\n",
      "-------------------------------------------------------------------------------------------------------\n",
      "\n",
      "\n",
      "Balanced outcome. End.\n"
     ]
    }
   ],
   "source": [
    "# essai avec multi\n",
    "d_line = 4\n",
    "multi.negotiation(line,d_line,greaterValue_line,\"zeuthen_Willingness_to_Risk_Conflict\")"
   ]
  },
  {
   "cell_type": "code",
   "execution_count": 131,
   "metadata": {},
   "outputs": [
    {
     "data": {
      "image/png": "[encoded data removed]",
      "text/plain": [
       "<Figure size 432x432 with 1 Axes>"
      ]
     },
     "metadata": {
      "needs_background": "light"
     },
     "output_type": "display_data"
    },
    {
     "name": "stdout",
     "output_type": "stream",
     "text": [
      "Caractéristiques du problème :\n",
      "\n",
      "Agents : {1: (2, 4), 2: (5, 1)}\n",
      "Objets : {1: (4, 4), 2: (1, 3), 3: (3, 1)}\n",
      "Distance de perception des agents : 10\n",
      "Objets visibles par les agents : {1: [(4, 4), (1, 3), (3, 1)], 2: [(4, 4), (1, 3), (3, 1)]}\n",
      "Ensembles Z : {(1, 2): [(1, 3), (4, 4), (3, 1)]}\n",
      "Coût de la plus grande tournée : 10\n",
      "Valeur supplémantaire ajoutée à : 0\n",
      "Valeur plus grande que le coût de la plus grande tournée possible : 10\n",
      "\n",
      "-----------------------------------------------------------------------\n",
      "Négociation par Monotonic Concession Protocol entre les agents 1 et 2 :\n",
      "-----------------------------------------------------------------------\n",
      "Point de conflit : [0, 0]\n",
      "Allocation avec bargaining :\n",
      "{((2, 1, 3), ()): (0, 10), ((2, 1), (3,)): (4, 8), ((2,), (1, 3)): (8, 4), ((), (2, 1, 3)): (10, 0)}\n",
      "Round 1 :\n",
      "L'agent 1 et l'agent 2 concèdent.\n",
      "Round 2 :\n",
      "L'agent 1 et l'agent 2 concèdent.\n",
      "Round 3 :\n",
      "L'agent 1 et l'agent 2 concèdent.\n",
      "u1a2 >= u1a1 and u2a1 >= u2a2\n",
      "flip a coin because both agents agree\n",
      "agreement : [((2, 1), (3,)), 4, 8]\n",
      "nash_products : 32\n",
      "-------------------------------------------------------------------------------------------------------\n",
      "Négociation entre les agents 1 et 2 :\n",
      "round \t\toffer_a1 \t\toffer_a2 \t\tu1a1,u1a2 \tu2a1,u2a2   z1  z2\n",
      "1\t\t((), (2, 1, 3))\t\t((2, 1, 3), ())\t\t(10, 0)\t\t(0, 10)  1.0  1.0\n",
      "2\t\t((2,), (1, 3))\t\t((2, 1), (3,))\t\t(8, 4)\t\t(4, 8)  0.5  0.5\n",
      "3\t\t((2, 1), (3,))\t\t((2,), (1, 3))\t\t(4, 8)\t\t(8, 4)  -1.0  -1.0\n",
      "-------------------------------------------------------------------------------------------------------\n",
      "\n",
      "\n",
      "Balanced outcome. End.\n"
     ]
    }
   ],
   "source": [
    "earth = env.World(6)\n",
    "agents_earth = earth.create_agents([(2,4),(5, 1)])\n",
    "objects_earth = earth.create_objects([(4,4),(1,3),(3,1)])\n",
    "d_earth = 10\n",
    "greaterValue_earth = 0\n",
    "earth.display_grid()\n",
    "bi.negotiation(earth, d_earth, greaterValue_earth)"
   ]
  },
  {
   "cell_type": "code",
   "execution_count": 132,
   "metadata": {},
   "outputs": [
    {
     "data": {
      "image/png": "[encoded data removed]",
      "text/plain": [
       "<Figure size 432x432 with 1 Axes>"
      ]
     },
     "metadata": {
      "needs_background": "light"
     },
     "output_type": "display_data"
    },
    {
     "name": "stdout",
     "output_type": "stream",
     "text": [
      "Caractéristiques du problème :\n",
      "\n",
      "Agents : {1: (2, 4), 2: (5, 1)}\n",
      "Objets : {1: (4, 4), 2: (1, 3), 3: (3, 1)}\n",
      "Distance de perception des agents : 10\n",
      "Objets visibles par les agents : {1: [(4, 4), (1, 3), (3, 1)], 2: [(4, 4), (1, 3), (3, 1)]}\n",
      "Ensembles Z : {(1, 2): {(1, 3), (3, 1), (4, 4)}}\n",
      "Coût de la plus grande tournée : 10\n",
      "Valeur supplémantaire ajoutée à : 0\n",
      "Valeur plus grande que le coût de la plus grande tournée possible : 10\n",
      "\n",
      "-----------------------------------------------------------------------\n",
      "Négociation par Monotonic Concession Protocol entre les agents (1, 2) :\n",
      "-----------------------------------------------------------------------\n",
      "Point de conflit : [0, 0]\n",
      "tasks : [2, 3, 1]\n",
      "Allocation avec bargaining :\n",
      "{((2, 3, 1), ()): [0, 10], ((2, 1), (3,)): [4, 8], ((2,), (3, 1)): [8, 4], ((), (2, 3, 1)): [10, 0]}\n",
      "Round 1 :\n",
      "Les agents [0, 1] concèdent.\n",
      "Round 2 :\n",
      "{((2, 3, 1), ()): [0, 10], ((2, 1), (3,)): [4, 8], ((2,), (3, 1)): [8, 4]}\n",
      "{((2, 1), (3,)): [4, 8], ((2,), (3, 1)): [8, 4], ((), (2, 3, 1)): [10, 0]}\n",
      "offers : [((2,), (3, 1)), ((2, 1), (3,))]\n",
      "Les agents [0, 1] concèdent.\n",
      "Round 3 :\n",
      "{((2, 3, 1), ()): [0, 10], ((2, 1), (3,)): [4, 8]}\n",
      "{((2,), (3, 1)): [8, 4], ((), (2, 3, 1)): [10, 0]}\n",
      "offers : [((2, 1), (3,)), ((2,), (3, 1))]\n",
      "Les agents [0, 1] concèdent.\n",
      "on fait un flip dice sur ces agents qui possèdent les meilleures offres :\n",
      "best_agents_ offers : [0, 1]\n",
      "agreement : [((2,), (3, 1)), 8, 4]\n",
      "nash_products : 32\n",
      "z_key : (1, 2)\n",
      "-------------------------------------------------------------------------------------------------------\n",
      "Négociation entre les agents (1, 2) :\n",
      "round         offer_a1        offer_a2        u1a1,u1a2   u2a1,u2a2   z1  z2\n",
      "1      ((), (2, 3, 1))       ((2, 3, 1), ())       (10, 0)        (0, 10)  1.0  1.0\n",
      "2      ((2,), (3, 1))       ((2, 1), (3,))       (8, 4)        (4, 8)  0.5  0.5\n",
      "3      ((2, 1), (3,))       ((2,), (3, 1))       (4, 8)        (8, 4)  0.0  0.0\n",
      "-------------------------------------------------------------------------------------------------------\n",
      "\n",
      "\n",
      "Balanced outcome. End.\n"
     ]
    }
   ],
   "source": [
    "# try multi\n",
    "earth.display_grid()\n",
    "multi.negotiation(earth, d_earth, greaterValue_earth,\"zeuthen_Willingness_to_Risk_Conflict\")"
   ]
  },
  {
   "cell_type": "markdown",
   "metadata": {},
   "source": [
    "## Monotonic Concession Protocols for Multilateral Negotiation"
   ]
  },
  {
   "cell_type": "markdown",
   "metadata": {},
   "source": [
    "Trois stratégies à mettre en paramètre :\n",
    "\n",
    "zeuthen_Willingness_to_Risk_Conflict\n",
    "\n",
    "zeuthen_A_Product_increasing_Strategy\n",
    "\n",
    "zeuthen_Sum_of_Products_of_Pairs"
   ]
  },
  {
   "cell_type": "code",
   "execution_count": 133,
   "metadata": {},
   "outputs": [
    {
     "data": {
      "image/png": "[encoded data removed]",
      "text/plain": [
       "<Figure size 432x432 with 1 Axes>"
      ]
     },
     "metadata": {
      "needs_background": "light"
     },
     "output_type": "display_data"
    }
   ],
   "source": [
    "circle = env.World(11)\n",
    "agents_circle = circle.create_agents([(6,8),(4,6),(8,6)])\n",
    "objects_circle = circle.create_objects([(1,1)])\n",
    "d_circle = 100\n",
    "greaterValue_circle = 0\n",
    "circle.display_grid()"
   ]
  },
  {
   "cell_type": "code",
   "execution_count": 125,
   "metadata": {},
   "outputs": [
    {
     "name": "stdout",
     "output_type": "stream",
     "text": [
      "Caractéristiques du problème :\n",
      "\n",
      "Agents : {1: (6, 8), 2: (4, 6), 3: (8, 6)}\n",
      "Objets : {1: (1, 1)}\n",
      "Distance de perception des agents : 4\n",
      "Objets visibles par les agents : {1: [], 2: [], 3: []}\n",
      "Ensembles Z : {}\n",
      "Coût de la plus grande tournée : 0\n",
      "Valeur supplémantaire ajoutée à : 0\n",
      "Valeur plus grande que le coût de la plus grande tournée possible : 0\n",
      "\n",
      "Balanced outcome. End.\n"
     ]
    }
   ],
   "source": [
    "d_circle = 4\n",
    "multi.negotiation(circle,d_circle,greaterValue_circle)"
   ]
  },
  {
   "cell_type": "code",
   "execution_count": 134,
   "metadata": {},
   "outputs": [
    {
     "data": {
      "image/png": "[encoded data removed]",
      "text/plain": [
       "<Figure size 432x432 with 1 Axes>"
      ]
     },
     "metadata": {
      "needs_background": "light"
     },
     "output_type": "display_data"
    }
   ],
   "source": [
    "triangle = env.World(11)\n",
    "#agents_triangle = triangle.create_agents([(1,6),(6,6),(9,9),(9,3)])\n",
    "#objects_triangle = triangle.create_objects([(3,7),(4,5),(8,5),(8,7),(10,6)])\n",
    "agents_triangle = triangle.create_agents([(6,6),(9,9),(9,3)])\n",
    "objects_triangle = triangle.create_objects([(8,5),(8,7),(10,6)])\n",
    "greaterValue_triangle = 2\n",
    "triangle.display_grid()\n",
    "d_triangle = 5"
   ]
  },
  {
   "cell_type": "code",
   "execution_count": 135,
   "metadata": {},
   "outputs": [
    {
     "name": "stdout",
     "output_type": "stream",
     "text": [
      "Caractéristiques du problème :\n",
      "\n",
      "Agents : {1: (6, 6), 2: (9, 9), 3: (9, 3)}\n",
      "Objets : {1: (8, 5), 2: (8, 7), 3: (10, 6)}\n",
      "Distance de perception des agents : 5\n",
      "Objets visibles par les agents : {1: [(8, 5), (8, 7), (10, 6)], 2: [(8, 5), (8, 7), (10, 6)], 3: [(8, 5), (8, 7), (10, 6)]}\n",
      "Ensembles Z : {(1, 2, 3): {(10, 6), (8, 5), (8, 7)}}\n",
      "Coût de la plus grande tournée : 8\n",
      "Valeur supplémantaire ajoutée à : 2\n",
      "Valeur plus grande que le coût de la plus grande tournée possible : 10\n",
      "\n",
      "-----------------------------------------------------------------------\n",
      "Négociation par Monotonic Concession Protocol entre les agents (1, 2, 3) :\n",
      "-----------------------------------------------------------------------\n",
      "Point de conflit : [2, 2, 2]\n",
      "tasks : [3, 1, 2]\n",
      "Allocation avec bargaining :\n",
      "{((3, 1, 2), (), ()): [2, 10, 10], ((3, 1), (2,), ()): [4, 7, 10], ((3,), (1, 2), ()): [6, 5, 10], ((3, 2), (), (1,)): [4, 10, 7], ((3,), (2,), (1,)): [6, 7, 7], ((3,), (), (1, 2)): [6, 10, 5], ((1, 2), (3,), ()): [5, 6, 10], ((1,), (3, 2), ()): [7, 4, 10], ((), (3, 1, 2), ()): [10, 2, 10], ((2,), (3,), (1,)): [7, 6, 7], ((), (3, 2), (1,)): [10, 4, 7], ((), (3,), (1, 2)): [10, 6, 5], ((1, 2), (), (3,)): [5, 10, 6], ((1,), (2,), (3,)): [7, 7, 6], ((), (1, 2), (3,)): [10, 5, 6], ((2,), (), (3, 1)): [7, 10, 4], ((), (2,), (3, 1)): [10, 7, 4], ((), (), (3, 1, 2)): [10, 10, 2]}\n",
      "Round 1 :\n",
      "Les agents [2] concèdent.\n",
      "Round 2 :\n",
      "{((3, 1, 2), (), ()): [2, 10, 10], ((3, 1), (2,), ()): [4, 7, 10], ((3,), (1, 2), ()): [6, 5, 10], ((3, 2), (), (1,)): [4, 10, 7], ((3,), (2,), (1,)): [6, 7, 7], ((3,), (), (1, 2)): [6, 10, 5], ((1, 2), (3,), ()): [5, 6, 10], ((1,), (3, 2), ()): [7, 4, 10], ((), (3, 1, 2), ()): [10, 2, 10], ((2,), (3,), (1,)): [7, 6, 7], ((), (3, 2), (1,)): [10, 4, 7], ((), (3,), (1, 2)): [10, 6, 5], ((1, 2), (), (3,)): [5, 10, 6], ((1,), (2,), (3,)): [7, 7, 6], ((), (1, 2), (3,)): [10, 5, 6], ((2,), (), (3, 1)): [7, 10, 4], ((), (2,), (3, 1)): [10, 7, 4], ((), (), (3, 1, 2)): [10, 10, 2]}\n",
      "{((3, 1, 2), (), ()): [2, 10, 10], ((3, 1), (2,), ()): [4, 7, 10], ((3,), (1, 2), ()): [6, 5, 10], ((3, 2), (), (1,)): [4, 10, 7], ((3,), (2,), (1,)): [6, 7, 7], ((3,), (), (1, 2)): [6, 10, 5], ((1, 2), (3,), ()): [5, 6, 10], ((1,), (3, 2), ()): [7, 4, 10], ((), (3, 1, 2), ()): [10, 2, 10], ((2,), (3,), (1,)): [7, 6, 7], ((), (3, 2), (1,)): [10, 4, 7], ((), (3,), (1, 2)): [10, 6, 5], ((1, 2), (), (3,)): [5, 10, 6], ((1,), (2,), (3,)): [7, 7, 6], ((), (1, 2), (3,)): [10, 5, 6], ((2,), (), (3, 1)): [7, 10, 4], ((), (2,), (3, 1)): [10, 7, 4], ((), (), (3, 1, 2)): [10, 10, 2]}\n",
      "{((3, 1), (2,), ()): [4, 7, 10], ((3,), (1, 2), ()): [6, 5, 10], ((3, 2), (), (1,)): [4, 10, 7], ((3,), (2,), (1,)): [6, 7, 7], ((3,), (), (1, 2)): [6, 10, 5], ((1, 2), (3,), ()): [5, 6, 10], ((1,), (3, 2), ()): [7, 4, 10], ((), (3, 1, 2), ()): [10, 2, 10], ((2,), (3,), (1,)): [7, 6, 7], ((), (3, 2), (1,)): [10, 4, 7], ((), (3,), (1, 2)): [10, 6, 5], ((1, 2), (), (3,)): [5, 10, 6], ((1,), (2,), (3,)): [7, 7, 6], ((), (1, 2), (3,)): [10, 5, 6], ((2,), (), (3, 1)): [7, 10, 4], ((), (2,), (3, 1)): [10, 7, 4], ((), (), (3, 1, 2)): [10, 10, 2]}\n",
      "offers : [((), (3, 1, 2), ()), ((3, 1, 2), (), ()), ((3, 1), (2,), ())]\n",
      "Les agents [2] concèdent.\n",
      "Round 3 :\n",
      "{((3, 1, 2), (), ()): [2, 10, 10], ((3, 1), (2,), ()): [4, 7, 10], ((3,), (1, 2), ()): [6, 5, 10], ((3, 2), (), (1,)): [4, 10, 7], ((3,), (2,), (1,)): [6, 7, 7], ((3,), (), (1, 2)): [6, 10, 5], ((1, 2), (3,), ()): [5, 6, 10], ((1,), (3, 2), ()): [7, 4, 10], ((), (3, 1, 2), ()): [10, 2, 10], ((2,), (3,), (1,)): [7, 6, 7], ((), (3, 2), (1,)): [10, 4, 7], ((), (3,), (1, 2)): [10, 6, 5], ((1, 2), (), (3,)): [5, 10, 6], ((1,), (2,), (3,)): [7, 7, 6], ((), (1, 2), (3,)): [10, 5, 6], ((2,), (), (3, 1)): [7, 10, 4], ((), (2,), (3, 1)): [10, 7, 4], ((), (), (3, 1, 2)): [10, 10, 2]}\n",
      "{((3, 1, 2), (), ()): [2, 10, 10], ((3, 1), (2,), ()): [4, 7, 10], ((3,), (1, 2), ()): [6, 5, 10], ((3, 2), (), (1,)): [4, 10, 7], ((3,), (2,), (1,)): [6, 7, 7], ((3,), (), (1, 2)): [6, 10, 5], ((1, 2), (3,), ()): [5, 6, 10], ((1,), (3, 2), ()): [7, 4, 10], ((), (3, 1, 2), ()): [10, 2, 10], ((2,), (3,), (1,)): [7, 6, 7], ((), (3, 2), (1,)): [10, 4, 7], ((), (3,), (1, 2)): [10, 6, 5], ((1, 2), (), (3,)): [5, 10, 6], ((1,), (2,), (3,)): [7, 7, 6], ((), (1, 2), (3,)): [10, 5, 6], ((2,), (), (3, 1)): [7, 10, 4], ((), (2,), (3, 1)): [10, 7, 4], ((), (), (3, 1, 2)): [10, 10, 2]}\n",
      "{((3,), (1, 2), ()): [6, 5, 10], ((3, 2), (), (1,)): [4, 10, 7], ((3,), (2,), (1,)): [6, 7, 7], ((3,), (), (1, 2)): [6, 10, 5], ((1, 2), (3,), ()): [5, 6, 10], ((1,), (3, 2), ()): [7, 4, 10], ((), (3, 1, 2), ()): [10, 2, 10], ((2,), (3,), (1,)): [7, 6, 7], ((), (3, 2), (1,)): [10, 4, 7], ((), (3,), (1, 2)): [10, 6, 5], ((1, 2), (), (3,)): [5, 10, 6], ((1,), (2,), (3,)): [7, 7, 6], ((), (1, 2), (3,)): [10, 5, 6], ((2,), (), (3, 1)): [7, 10, 4], ((), (2,), (3, 1)): [10, 7, 4], ((), (), (3, 1, 2)): [10, 10, 2]}\n",
      "offers : [((), (3, 1, 2), ()), ((3, 1, 2), (), ()), ((3,), (1, 2), ())]\n",
      "Les agents [2] concèdent.\n",
      "Round 4 :\n",
      "{((3, 1, 2), (), ()): [2, 10, 10], ((3, 1), (2,), ()): [4, 7, 10], ((3,), (1, 2), ()): [6, 5, 10], ((3, 2), (), (1,)): [4, 10, 7], ((3,), (2,), (1,)): [6, 7, 7], ((3,), (), (1, 2)): [6, 10, 5], ((1, 2), (3,), ()): [5, 6, 10], ((1,), (3, 2), ()): [7, 4, 10], ((), (3, 1, 2), ()): [10, 2, 10], ((2,), (3,), (1,)): [7, 6, 7], ((), (3, 2), (1,)): [10, 4, 7], ((), (3,), (1, 2)): [10, 6, 5], ((1, 2), (), (3,)): [5, 10, 6], ((1,), (2,), (3,)): [7, 7, 6], ((), (1, 2), (3,)): [10, 5, 6], ((2,), (), (3, 1)): [7, 10, 4], ((), (2,), (3, 1)): [10, 7, 4], ((), (), (3, 1, 2)): [10, 10, 2]}\n",
      "{((3, 1, 2), (), ()): [2, 10, 10], ((3, 1), (2,), ()): [4, 7, 10], ((3,), (1, 2), ()): [6, 5, 10], ((3, 2), (), (1,)): [4, 10, 7], ((3,), (2,), (1,)): [6, 7, 7], ((3,), (), (1, 2)): [6, 10, 5], ((1, 2), (3,), ()): [5, 6, 10], ((1,), (3, 2), ()): [7, 4, 10], ((), (3, 1, 2), ()): [10, 2, 10], ((2,), (3,), (1,)): [7, 6, 7], ((), (3, 2), (1,)): [10, 4, 7], ((), (3,), (1, 2)): [10, 6, 5], ((1, 2), (), (3,)): [5, 10, 6], ((1,), (2,), (3,)): [7, 7, 6], ((), (1, 2), (3,)): [10, 5, 6], ((2,), (), (3, 1)): [7, 10, 4], ((), (2,), (3, 1)): [10, 7, 4], ((), (), (3, 1, 2)): [10, 10, 2]}\n",
      "{((3, 2), (), (1,)): [4, 10, 7], ((3,), (2,), (1,)): [6, 7, 7], ((3,), (), (1, 2)): [6, 10, 5], ((1, 2), (3,), ()): [5, 6, 10], ((1,), (3, 2), ()): [7, 4, 10], ((), (3, 1, 2), ()): [10, 2, 10], ((2,), (3,), (1,)): [7, 6, 7], ((), (3, 2), (1,)): [10, 4, 7], ((), (3,), (1, 2)): [10, 6, 5], ((1, 2), (), (3,)): [5, 10, 6], ((1,), (2,), (3,)): [7, 7, 6], ((), (1, 2), (3,)): [10, 5, 6], ((2,), (), (3, 1)): [7, 10, 4], ((), (2,), (3, 1)): [10, 7, 4], ((), (), (3, 1, 2)): [10, 10, 2]}\n",
      "offers : [((), (3, 1, 2), ()), ((3, 1, 2), (), ()), ((1, 2), (3,), ())]\n",
      "Les agents [2] concèdent.\n",
      "Round 5 :\n",
      "{((3, 1, 2), (), ()): [2, 10, 10], ((3, 1), (2,), ()): [4, 7, 10], ((3,), (1, 2), ()): [6, 5, 10], ((3, 2), (), (1,)): [4, 10, 7], ((3,), (2,), (1,)): [6, 7, 7], ((3,), (), (1, 2)): [6, 10, 5], ((1, 2), (3,), ()): [5, 6, 10], ((1,), (3, 2), ()): [7, 4, 10], ((), (3, 1, 2), ()): [10, 2, 10], ((2,), (3,), (1,)): [7, 6, 7], ((), (3, 2), (1,)): [10, 4, 7], ((), (3,), (1, 2)): [10, 6, 5], ((1, 2), (), (3,)): [5, 10, 6], ((1,), (2,), (3,)): [7, 7, 6], ((), (1, 2), (3,)): [10, 5, 6], ((2,), (), (3, 1)): [7, 10, 4], ((), (2,), (3, 1)): [10, 7, 4], ((), (), (3, 1, 2)): [10, 10, 2]}\n",
      "{((3, 1, 2), (), ()): [2, 10, 10], ((3, 1), (2,), ()): [4, 7, 10], ((3,), (1, 2), ()): [6, 5, 10], ((3, 2), (), (1,)): [4, 10, 7], ((3,), (2,), (1,)): [6, 7, 7], ((3,), (), (1, 2)): [6, 10, 5], ((1, 2), (3,), ()): [5, 6, 10], ((1,), (3, 2), ()): [7, 4, 10], ((), (3, 1, 2), ()): [10, 2, 10], ((2,), (3,), (1,)): [7, 6, 7], ((), (3, 2), (1,)): [10, 4, 7], ((), (3,), (1, 2)): [10, 6, 5], ((1, 2), (), (3,)): [5, 10, 6], ((1,), (2,), (3,)): [7, 7, 6], ((), (1, 2), (3,)): [10, 5, 6], ((2,), (), (3, 1)): [7, 10, 4], ((), (2,), (3, 1)): [10, 7, 4], ((), (), (3, 1, 2)): [10, 10, 2]}\n",
      "{((3, 2), (), (1,)): [4, 10, 7], ((3,), (2,), (1,)): [6, 7, 7], ((3,), (), (1, 2)): [6, 10, 5], ((1,), (3, 2), ()): [7, 4, 10], ((), (3, 1, 2), ()): [10, 2, 10], ((2,), (3,), (1,)): [7, 6, 7], ((), (3, 2), (1,)): [10, 4, 7], ((), (3,), (1, 2)): [10, 6, 5], ((1, 2), (), (3,)): [5, 10, 6], ((1,), (2,), (3,)): [7, 7, 6], ((), (1, 2), (3,)): [10, 5, 6], ((2,), (), (3, 1)): [7, 10, 4], ((), (2,), (3, 1)): [10, 7, 4], ((), (), (3, 1, 2)): [10, 10, 2]}\n",
      "offers : [((), (3, 1, 2), ()), ((3, 1, 2), (), ()), ((1,), (3, 2), ())]\n",
      "Les agents [2] concèdent.\n",
      "Round 6 :\n",
      "{((3, 1, 2), (), ()): [2, 10, 10], ((3, 1), (2,), ()): [4, 7, 10], ((3,), (1, 2), ()): [6, 5, 10], ((3, 2), (), (1,)): [4, 10, 7], ((3,), (2,), (1,)): [6, 7, 7], ((3,), (), (1, 2)): [6, 10, 5], ((1, 2), (3,), ()): [5, 6, 10], ((1,), (3, 2), ()): [7, 4, 10], ((), (3, 1, 2), ()): [10, 2, 10], ((2,), (3,), (1,)): [7, 6, 7], ((), (3, 2), (1,)): [10, 4, 7], ((), (3,), (1, 2)): [10, 6, 5], ((1, 2), (), (3,)): [5, 10, 6], ((1,), (2,), (3,)): [7, 7, 6], ((), (1, 2), (3,)): [10, 5, 6], ((2,), (), (3, 1)): [7, 10, 4], ((), (2,), (3, 1)): [10, 7, 4], ((), (), (3, 1, 2)): [10, 10, 2]}\n",
      "{((3, 1, 2), (), ()): [2, 10, 10], ((3, 1), (2,), ()): [4, 7, 10], ((3,), (1, 2), ()): [6, 5, 10], ((3, 2), (), (1,)): [4, 10, 7], ((3,), (2,), (1,)): [6, 7, 7], ((3,), (), (1, 2)): [6, 10, 5], ((1, 2), (3,), ()): [5, 6, 10], ((1,), (3, 2), ()): [7, 4, 10], ((), (3, 1, 2), ()): [10, 2, 10], ((2,), (3,), (1,)): [7, 6, 7], ((), (3, 2), (1,)): [10, 4, 7], ((), (3,), (1, 2)): [10, 6, 5], ((1, 2), (), (3,)): [5, 10, 6], ((1,), (2,), (3,)): [7, 7, 6], ((), (1, 2), (3,)): [10, 5, 6], ((2,), (), (3, 1)): [7, 10, 4], ((), (2,), (3, 1)): [10, 7, 4], ((), (), (3, 1, 2)): [10, 10, 2]}\n",
      "{((3, 2), (), (1,)): [4, 10, 7], ((3,), (2,), (1,)): [6, 7, 7], ((3,), (), (1, 2)): [6, 10, 5], ((), (3, 1, 2), ()): [10, 2, 10], ((2,), (3,), (1,)): [7, 6, 7], ((), (3, 2), (1,)): [10, 4, 7], ((), (3,), (1, 2)): [10, 6, 5], ((1, 2), (), (3,)): [5, 10, 6], ((1,), (2,), (3,)): [7, 7, 6], ((), (1, 2), (3,)): [10, 5, 6], ((2,), (), (3, 1)): [7, 10, 4], ((), (2,), (3, 1)): [10, 7, 4], ((), (), (3, 1, 2)): [10, 10, 2]}\n",
      "offers : [((), (3, 1, 2), ()), ((3, 1, 2), (), ()), ((), (3, 1, 2), ())]\n",
      "Les agents [2] concèdent.\n",
      "Round 7 :\n",
      "{((3, 1, 2), (), ()): [2, 10, 10], ((3, 1), (2,), ()): [4, 7, 10], ((3,), (1, 2), ()): [6, 5, 10], ((3, 2), (), (1,)): [4, 10, 7], ((3,), (2,), (1,)): [6, 7, 7], ((3,), (), (1, 2)): [6, 10, 5], ((1, 2), (3,), ()): [5, 6, 10], ((1,), (3, 2), ()): [7, 4, 10], ((), (3, 1, 2), ()): [10, 2, 10], ((2,), (3,), (1,)): [7, 6, 7], ((), (3, 2), (1,)): [10, 4, 7], ((), (3,), (1, 2)): [10, 6, 5], ((1, 2), (), (3,)): [5, 10, 6], ((1,), (2,), (3,)): [7, 7, 6], ((), (1, 2), (3,)): [10, 5, 6], ((2,), (), (3, 1)): [7, 10, 4], ((), (2,), (3, 1)): [10, 7, 4], ((), (), (3, 1, 2)): [10, 10, 2]}\n",
      "{((3, 1, 2), (), ()): [2, 10, 10], ((3, 1), (2,), ()): [4, 7, 10], ((3,), (1, 2), ()): [6, 5, 10], ((3, 2), (), (1,)): [4, 10, 7], ((3,), (2,), (1,)): [6, 7, 7], ((3,), (), (1, 2)): [6, 10, 5], ((1, 2), (3,), ()): [5, 6, 10], ((1,), (3, 2), ()): [7, 4, 10], ((), (3, 1, 2), ()): [10, 2, 10], ((2,), (3,), (1,)): [7, 6, 7], ((), (3, 2), (1,)): [10, 4, 7], ((), (3,), (1, 2)): [10, 6, 5], ((1, 2), (), (3,)): [5, 10, 6], ((1,), (2,), (3,)): [7, 7, 6], ((), (1, 2), (3,)): [10, 5, 6], ((2,), (), (3, 1)): [7, 10, 4], ((), (2,), (3, 1)): [10, 7, 4], ((), (), (3, 1, 2)): [10, 10, 2]}\n",
      "{((3, 2), (), (1,)): [4, 10, 7], ((3,), (2,), (1,)): [6, 7, 7], ((3,), (), (1, 2)): [6, 10, 5], ((2,), (3,), (1,)): [7, 6, 7], ((), (3, 2), (1,)): [10, 4, 7], ((), (3,), (1, 2)): [10, 6, 5], ((1, 2), (), (3,)): [5, 10, 6], ((1,), (2,), (3,)): [7, 7, 6], ((), (1, 2), (3,)): [10, 5, 6], ((2,), (), (3, 1)): [7, 10, 4], ((), (2,), (3, 1)): [10, 7, 4], ((), (), (3, 1, 2)): [10, 10, 2]}\n",
      "offers : [((), (3, 1, 2), ()), ((3, 1, 2), (), ()), ((3, 2), (), (1,))]\n",
      "Les agents [2] concèdent.\n",
      "Round 8 :\n",
      "{((3, 1, 2), (), ()): [2, 10, 10], ((3, 1), (2,), ()): [4, 7, 10], ((3,), (1, 2), ()): [6, 5, 10], ((3, 2), (), (1,)): [4, 10, 7], ((3,), (2,), (1,)): [6, 7, 7], ((3,), (), (1, 2)): [6, 10, 5], ((1, 2), (3,), ()): [5, 6, 10], ((1,), (3, 2), ()): [7, 4, 10], ((), (3, 1, 2), ()): [10, 2, 10], ((2,), (3,), (1,)): [7, 6, 7], ((), (3, 2), (1,)): [10, 4, 7], ((), (3,), (1, 2)): [10, 6, 5], ((1, 2), (), (3,)): [5, 10, 6], ((1,), (2,), (3,)): [7, 7, 6], ((), (1, 2), (3,)): [10, 5, 6], ((2,), (), (3, 1)): [7, 10, 4], ((), (2,), (3, 1)): [10, 7, 4], ((), (), (3, 1, 2)): [10, 10, 2]}\n",
      "{((3, 1, 2), (), ()): [2, 10, 10], ((3, 1), (2,), ()): [4, 7, 10], ((3,), (1, 2), ()): [6, 5, 10], ((3, 2), (), (1,)): [4, 10, 7], ((3,), (2,), (1,)): [6, 7, 7], ((3,), (), (1, 2)): [6, 10, 5], ((1, 2), (3,), ()): [5, 6, 10], ((1,), (3, 2), ()): [7, 4, 10], ((), (3, 1, 2), ()): [10, 2, 10], ((2,), (3,), (1,)): [7, 6, 7], ((), (3, 2), (1,)): [10, 4, 7], ((), (3,), (1, 2)): [10, 6, 5], ((1, 2), (), (3,)): [5, 10, 6], ((1,), (2,), (3,)): [7, 7, 6], ((), (1, 2), (3,)): [10, 5, 6], ((2,), (), (3, 1)): [7, 10, 4], ((), (2,), (3, 1)): [10, 7, 4], ((), (), (3, 1, 2)): [10, 10, 2]}\n",
      "{((3,), (2,), (1,)): [6, 7, 7], ((3,), (), (1, 2)): [6, 10, 5], ((2,), (3,), (1,)): [7, 6, 7], ((), (3, 2), (1,)): [10, 4, 7], ((), (3,), (1, 2)): [10, 6, 5], ((1, 2), (), (3,)): [5, 10, 6], ((1,), (2,), (3,)): [7, 7, 6], ((), (1, 2), (3,)): [10, 5, 6], ((2,), (), (3, 1)): [7, 10, 4], ((), (2,), (3, 1)): [10, 7, 4], ((), (), (3, 1, 2)): [10, 10, 2]}\n",
      "offers : [((), (3, 1, 2), ()), ((3, 1, 2), (), ()), ((3,), (2,), (1,))]\n",
      "Les agents [2] concèdent.\n",
      "Round 9 :\n",
      "{((3, 1, 2), (), ()): [2, 10, 10], ((3, 1), (2,), ()): [4, 7, 10], ((3,), (1, 2), ()): [6, 5, 10], ((3, 2), (), (1,)): [4, 10, 7], ((3,), (2,), (1,)): [6, 7, 7], ((3,), (), (1, 2)): [6, 10, 5], ((1, 2), (3,), ()): [5, 6, 10], ((1,), (3, 2), ()): [7, 4, 10], ((), (3, 1, 2), ()): [10, 2, 10], ((2,), (3,), (1,)): [7, 6, 7], ((), (3, 2), (1,)): [10, 4, 7], ((), (3,), (1, 2)): [10, 6, 5], ((1, 2), (), (3,)): [5, 10, 6], ((1,), (2,), (3,)): [7, 7, 6], ((), (1, 2), (3,)): [10, 5, 6], ((2,), (), (3, 1)): [7, 10, 4], ((), (2,), (3, 1)): [10, 7, 4], ((), (), (3, 1, 2)): [10, 10, 2]}\n",
      "{((3, 1, 2), (), ()): [2, 10, 10], ((3, 1), (2,), ()): [4, 7, 10], ((3,), (1, 2), ()): [6, 5, 10], ((3, 2), (), (1,)): [4, 10, 7], ((3,), (2,), (1,)): [6, 7, 7], ((3,), (), (1, 2)): [6, 10, 5], ((1, 2), (3,), ()): [5, 6, 10], ((1,), (3, 2), ()): [7, 4, 10], ((), (3, 1, 2), ()): [10, 2, 10], ((2,), (3,), (1,)): [7, 6, 7], ((), (3, 2), (1,)): [10, 4, 7], ((), (3,), (1, 2)): [10, 6, 5], ((1, 2), (), (3,)): [5, 10, 6], ((1,), (2,), (3,)): [7, 7, 6], ((), (1, 2), (3,)): [10, 5, 6], ((2,), (), (3, 1)): [7, 10, 4], ((), (2,), (3, 1)): [10, 7, 4], ((), (), (3, 1, 2)): [10, 10, 2]}\n",
      "{((3,), (), (1, 2)): [6, 10, 5], ((2,), (3,), (1,)): [7, 6, 7], ((), (3, 2), (1,)): [10, 4, 7], ((), (3,), (1, 2)): [10, 6, 5], ((1, 2), (), (3,)): [5, 10, 6], ((1,), (2,), (3,)): [7, 7, 6], ((), (1, 2), (3,)): [10, 5, 6], ((2,), (), (3, 1)): [7, 10, 4], ((), (2,), (3, 1)): [10, 7, 4], ((), (), (3, 1, 2)): [10, 10, 2]}\n",
      "offers : [((), (3, 1, 2), ()), ((3, 1, 2), (), ()), ((2,), (3,), (1,))]\n",
      "Les agents [2] concèdent.\n",
      "Round 10 :\n",
      "{((3, 1, 2), (), ()): [2, 10, 10], ((3, 1), (2,), ()): [4, 7, 10], ((3,), (1, 2), ()): [6, 5, 10], ((3, 2), (), (1,)): [4, 10, 7], ((3,), (2,), (1,)): [6, 7, 7], ((3,), (), (1, 2)): [6, 10, 5], ((1, 2), (3,), ()): [5, 6, 10], ((1,), (3, 2), ()): [7, 4, 10], ((), (3, 1, 2), ()): [10, 2, 10], ((2,), (3,), (1,)): [7, 6, 7], ((), (3, 2), (1,)): [10, 4, 7], ((), (3,), (1, 2)): [10, 6, 5], ((1, 2), (), (3,)): [5, 10, 6], ((1,), (2,), (3,)): [7, 7, 6], ((), (1, 2), (3,)): [10, 5, 6], ((2,), (), (3, 1)): [7, 10, 4], ((), (2,), (3, 1)): [10, 7, 4], ((), (), (3, 1, 2)): [10, 10, 2]}\n",
      "{((3, 1, 2), (), ()): [2, 10, 10], ((3, 1), (2,), ()): [4, 7, 10], ((3,), (1, 2), ()): [6, 5, 10], ((3, 2), (), (1,)): [4, 10, 7], ((3,), (2,), (1,)): [6, 7, 7], ((3,), (), (1, 2)): [6, 10, 5], ((1, 2), (3,), ()): [5, 6, 10], ((1,), (3, 2), ()): [7, 4, 10], ((), (3, 1, 2), ()): [10, 2, 10], ((2,), (3,), (1,)): [7, 6, 7], ((), (3, 2), (1,)): [10, 4, 7], ((), (3,), (1, 2)): [10, 6, 5], ((1, 2), (), (3,)): [5, 10, 6], ((1,), (2,), (3,)): [7, 7, 6], ((), (1, 2), (3,)): [10, 5, 6], ((2,), (), (3, 1)): [7, 10, 4], ((), (2,), (3, 1)): [10, 7, 4], ((), (), (3, 1, 2)): [10, 10, 2]}\n",
      "{((3,), (), (1, 2)): [6, 10, 5], ((), (3, 2), (1,)): [10, 4, 7], ((), (3,), (1, 2)): [10, 6, 5], ((1, 2), (), (3,)): [5, 10, 6], ((1,), (2,), (3,)): [7, 7, 6], ((), (1, 2), (3,)): [10, 5, 6], ((2,), (), (3, 1)): [7, 10, 4], ((), (2,), (3, 1)): [10, 7, 4], ((), (), (3, 1, 2)): [10, 10, 2]}\n",
      "offers : [((), (3, 1, 2), ()), ((3, 1, 2), (), ()), ((), (3, 2), (1,))]\n",
      "Les agents [2] concèdent.\n",
      "Round 11 :\n",
      "{((3, 1, 2), (), ()): [2, 10, 10], ((3, 1), (2,), ()): [4, 7, 10], ((3,), (1, 2), ()): [6, 5, 10], ((3, 2), (), (1,)): [4, 10, 7], ((3,), (2,), (1,)): [6, 7, 7], ((3,), (), (1, 2)): [6, 10, 5], ((1, 2), (3,), ()): [5, 6, 10], ((1,), (3, 2), ()): [7, 4, 10], ((), (3, 1, 2), ()): [10, 2, 10], ((2,), (3,), (1,)): [7, 6, 7], ((), (3, 2), (1,)): [10, 4, 7], ((), (3,), (1, 2)): [10, 6, 5], ((1, 2), (), (3,)): [5, 10, 6], ((1,), (2,), (3,)): [7, 7, 6], ((), (1, 2), (3,)): [10, 5, 6], ((2,), (), (3, 1)): [7, 10, 4], ((), (2,), (3, 1)): [10, 7, 4], ((), (), (3, 1, 2)): [10, 10, 2]}\n",
      "{((3, 1, 2), (), ()): [2, 10, 10], ((3, 1), (2,), ()): [4, 7, 10], ((3,), (1, 2), ()): [6, 5, 10], ((3, 2), (), (1,)): [4, 10, 7], ((3,), (2,), (1,)): [6, 7, 7], ((3,), (), (1, 2)): [6, 10, 5], ((1, 2), (3,), ()): [5, 6, 10], ((1,), (3, 2), ()): [7, 4, 10], ((), (3, 1, 2), ()): [10, 2, 10], ((2,), (3,), (1,)): [7, 6, 7], ((), (3, 2), (1,)): [10, 4, 7], ((), (3,), (1, 2)): [10, 6, 5], ((1, 2), (), (3,)): [5, 10, 6], ((1,), (2,), (3,)): [7, 7, 6], ((), (1, 2), (3,)): [10, 5, 6], ((2,), (), (3, 1)): [7, 10, 4], ((), (2,), (3, 1)): [10, 7, 4], ((), (), (3, 1, 2)): [10, 10, 2]}\n",
      "{((3,), (), (1, 2)): [6, 10, 5], ((), (3,), (1, 2)): [10, 6, 5], ((1, 2), (), (3,)): [5, 10, 6], ((1,), (2,), (3,)): [7, 7, 6], ((), (1, 2), (3,)): [10, 5, 6], ((2,), (), (3, 1)): [7, 10, 4], ((), (2,), (3, 1)): [10, 7, 4], ((), (), (3, 1, 2)): [10, 10, 2]}\n",
      "offers : [((), (3, 1, 2), ()), ((3, 1, 2), (), ()), ((1, 2), (), (3,))]\n",
      "Les agents [2] concèdent.\n",
      "Round 12 :\n",
      "{((3, 1, 2), (), ()): [2, 10, 10], ((3, 1), (2,), ()): [4, 7, 10], ((3,), (1, 2), ()): [6, 5, 10], ((3, 2), (), (1,)): [4, 10, 7], ((3,), (2,), (1,)): [6, 7, 7], ((3,), (), (1, 2)): [6, 10, 5], ((1, 2), (3,), ()): [5, 6, 10], ((1,), (3, 2), ()): [7, 4, 10], ((), (3, 1, 2), ()): [10, 2, 10], ((2,), (3,), (1,)): [7, 6, 7], ((), (3, 2), (1,)): [10, 4, 7], ((), (3,), (1, 2)): [10, 6, 5], ((1, 2), (), (3,)): [5, 10, 6], ((1,), (2,), (3,)): [7, 7, 6], ((), (1, 2), (3,)): [10, 5, 6], ((2,), (), (3, 1)): [7, 10, 4], ((), (2,), (3, 1)): [10, 7, 4], ((), (), (3, 1, 2)): [10, 10, 2]}\n",
      "{((3, 1, 2), (), ()): [2, 10, 10], ((3, 1), (2,), ()): [4, 7, 10], ((3,), (1, 2), ()): [6, 5, 10], ((3, 2), (), (1,)): [4, 10, 7], ((3,), (2,), (1,)): [6, 7, 7], ((3,), (), (1, 2)): [6, 10, 5], ((1, 2), (3,), ()): [5, 6, 10], ((1,), (3, 2), ()): [7, 4, 10], ((), (3, 1, 2), ()): [10, 2, 10], ((2,), (3,), (1,)): [7, 6, 7], ((), (3, 2), (1,)): [10, 4, 7], ((), (3,), (1, 2)): [10, 6, 5], ((1, 2), (), (3,)): [5, 10, 6], ((1,), (2,), (3,)): [7, 7, 6], ((), (1, 2), (3,)): [10, 5, 6], ((2,), (), (3, 1)): [7, 10, 4], ((), (2,), (3, 1)): [10, 7, 4], ((), (), (3, 1, 2)): [10, 10, 2]}\n",
      "{((3,), (), (1, 2)): [6, 10, 5], ((), (3,), (1, 2)): [10, 6, 5], ((1,), (2,), (3,)): [7, 7, 6], ((), (1, 2), (3,)): [10, 5, 6], ((2,), (), (3, 1)): [7, 10, 4], ((), (2,), (3, 1)): [10, 7, 4], ((), (), (3, 1, 2)): [10, 10, 2]}\n",
      "offers : [((), (3, 1, 2), ()), ((3, 1, 2), (), ()), ((1,), (2,), (3,))]\n",
      "Les agents [2] concèdent.\n",
      "Round 13 :\n",
      "{((3, 1, 2), (), ()): [2, 10, 10], ((3, 1), (2,), ()): [4, 7, 10], ((3,), (1, 2), ()): [6, 5, 10], ((3, 2), (), (1,)): [4, 10, 7], ((3,), (2,), (1,)): [6, 7, 7], ((3,), (), (1, 2)): [6, 10, 5], ((1, 2), (3,), ()): [5, 6, 10], ((1,), (3, 2), ()): [7, 4, 10], ((), (3, 1, 2), ()): [10, 2, 10], ((2,), (3,), (1,)): [7, 6, 7], ((), (3, 2), (1,)): [10, 4, 7], ((), (3,), (1, 2)): [10, 6, 5], ((1, 2), (), (3,)): [5, 10, 6], ((1,), (2,), (3,)): [7, 7, 6], ((), (1, 2), (3,)): [10, 5, 6], ((2,), (), (3, 1)): [7, 10, 4], ((), (2,), (3, 1)): [10, 7, 4], ((), (), (3, 1, 2)): [10, 10, 2]}\n",
      "{((3, 1, 2), (), ()): [2, 10, 10], ((3, 1), (2,), ()): [4, 7, 10], ((3,), (1, 2), ()): [6, 5, 10], ((3, 2), (), (1,)): [4, 10, 7], ((3,), (2,), (1,)): [6, 7, 7], ((3,), (), (1, 2)): [6, 10, 5], ((1, 2), (3,), ()): [5, 6, 10], ((1,), (3, 2), ()): [7, 4, 10], ((), (3, 1, 2), ()): [10, 2, 10], ((2,), (3,), (1,)): [7, 6, 7], ((), (3, 2), (1,)): [10, 4, 7], ((), (3,), (1, 2)): [10, 6, 5], ((1, 2), (), (3,)): [5, 10, 6], ((1,), (2,), (3,)): [7, 7, 6], ((), (1, 2), (3,)): [10, 5, 6], ((2,), (), (3, 1)): [7, 10, 4], ((), (2,), (3, 1)): [10, 7, 4], ((), (), (3, 1, 2)): [10, 10, 2]}\n",
      "{((3,), (), (1, 2)): [6, 10, 5], ((), (3,), (1, 2)): [10, 6, 5], ((), (1, 2), (3,)): [10, 5, 6], ((2,), (), (3, 1)): [7, 10, 4], ((), (2,), (3, 1)): [10, 7, 4], ((), (), (3, 1, 2)): [10, 10, 2]}\n",
      "offers : [((), (3, 1, 2), ()), ((3, 1, 2), (), ()), ((), (1, 2), (3,))]\n",
      "Les agents [2] concèdent.\n",
      "Round 14 :\n",
      "{((3, 1, 2), (), ()): [2, 10, 10], ((3, 1), (2,), ()): [4, 7, 10], ((3,), (1, 2), ()): [6, 5, 10], ((3, 2), (), (1,)): [4, 10, 7], ((3,), (2,), (1,)): [6, 7, 7], ((3,), (), (1, 2)): [6, 10, 5], ((1, 2), (3,), ()): [5, 6, 10], ((1,), (3, 2), ()): [7, 4, 10], ((), (3, 1, 2), ()): [10, 2, 10], ((2,), (3,), (1,)): [7, 6, 7], ((), (3, 2), (1,)): [10, 4, 7], ((), (3,), (1, 2)): [10, 6, 5], ((1, 2), (), (3,)): [5, 10, 6], ((1,), (2,), (3,)): [7, 7, 6], ((), (1, 2), (3,)): [10, 5, 6], ((2,), (), (3, 1)): [7, 10, 4], ((), (2,), (3, 1)): [10, 7, 4], ((), (), (3, 1, 2)): [10, 10, 2]}\n",
      "{((3, 1, 2), (), ()): [2, 10, 10], ((3, 1), (2,), ()): [4, 7, 10], ((3,), (1, 2), ()): [6, 5, 10], ((3, 2), (), (1,)): [4, 10, 7], ((3,), (2,), (1,)): [6, 7, 7], ((3,), (), (1, 2)): [6, 10, 5], ((1, 2), (3,), ()): [5, 6, 10], ((1,), (3, 2), ()): [7, 4, 10], ((), (3, 1, 2), ()): [10, 2, 10], ((2,), (3,), (1,)): [7, 6, 7], ((), (3, 2), (1,)): [10, 4, 7], ((), (3,), (1, 2)): [10, 6, 5], ((1, 2), (), (3,)): [5, 10, 6], ((1,), (2,), (3,)): [7, 7, 6], ((), (1, 2), (3,)): [10, 5, 6], ((2,), (), (3, 1)): [7, 10, 4], ((), (2,), (3, 1)): [10, 7, 4], ((), (), (3, 1, 2)): [10, 10, 2]}\n",
      "{((3,), (), (1, 2)): [6, 10, 5], ((), (3,), (1, 2)): [10, 6, 5], ((2,), (), (3, 1)): [7, 10, 4], ((), (2,), (3, 1)): [10, 7, 4], ((), (), (3, 1, 2)): [10, 10, 2]}\n",
      "offers : [((), (3, 1, 2), ()), ((3, 1, 2), (), ()), ((3,), (), (1, 2))]\n",
      "Les agents [2] concèdent.\n",
      "Round 15 :\n",
      "{((3, 1, 2), (), ()): [2, 10, 10], ((3, 1), (2,), ()): [4, 7, 10], ((3,), (1, 2), ()): [6, 5, 10], ((3, 2), (), (1,)): [4, 10, 7], ((3,), (2,), (1,)): [6, 7, 7], ((3,), (), (1, 2)): [6, 10, 5], ((1, 2), (3,), ()): [5, 6, 10], ((1,), (3, 2), ()): [7, 4, 10], ((), (3, 1, 2), ()): [10, 2, 10], ((2,), (3,), (1,)): [7, 6, 7], ((), (3, 2), (1,)): [10, 4, 7], ((), (3,), (1, 2)): [10, 6, 5], ((1, 2), (), (3,)): [5, 10, 6], ((1,), (2,), (3,)): [7, 7, 6], ((), (1, 2), (3,)): [10, 5, 6], ((2,), (), (3, 1)): [7, 10, 4], ((), (2,), (3, 1)): [10, 7, 4], ((), (), (3, 1, 2)): [10, 10, 2]}\n",
      "{((3, 1, 2), (), ()): [2, 10, 10], ((3, 1), (2,), ()): [4, 7, 10], ((3,), (1, 2), ()): [6, 5, 10], ((3, 2), (), (1,)): [4, 10, 7], ((3,), (2,), (1,)): [6, 7, 7], ((3,), (), (1, 2)): [6, 10, 5], ((1, 2), (3,), ()): [5, 6, 10], ((1,), (3, 2), ()): [7, 4, 10], ((), (3, 1, 2), ()): [10, 2, 10], ((2,), (3,), (1,)): [7, 6, 7], ((), (3, 2), (1,)): [10, 4, 7], ((), (3,), (1, 2)): [10, 6, 5], ((1, 2), (), (3,)): [5, 10, 6], ((1,), (2,), (3,)): [7, 7, 6], ((), (1, 2), (3,)): [10, 5, 6], ((2,), (), (3, 1)): [7, 10, 4], ((), (2,), (3, 1)): [10, 7, 4], ((), (), (3, 1, 2)): [10, 10, 2]}\n",
      "{((), (3,), (1, 2)): [10, 6, 5], ((2,), (), (3, 1)): [7, 10, 4], ((), (2,), (3, 1)): [10, 7, 4], ((), (), (3, 1, 2)): [10, 10, 2]}\n",
      "offers : [((), (3, 1, 2), ()), ((3, 1, 2), (), ()), ((), (3,), (1, 2))]\n",
      "Les agents [2] concèdent.\n",
      "Round 16 :\n",
      "{((3, 1, 2), (), ()): [2, 10, 10], ((3, 1), (2,), ()): [4, 7, 10], ((3,), (1, 2), ()): [6, 5, 10], ((3, 2), (), (1,)): [4, 10, 7], ((3,), (2,), (1,)): [6, 7, 7], ((3,), (), (1, 2)): [6, 10, 5], ((1, 2), (3,), ()): [5, 6, 10], ((1,), (3, 2), ()): [7, 4, 10], ((), (3, 1, 2), ()): [10, 2, 10], ((2,), (3,), (1,)): [7, 6, 7], ((), (3, 2), (1,)): [10, 4, 7], ((), (3,), (1, 2)): [10, 6, 5], ((1, 2), (), (3,)): [5, 10, 6], ((1,), (2,), (3,)): [7, 7, 6], ((), (1, 2), (3,)): [10, 5, 6], ((2,), (), (3, 1)): [7, 10, 4], ((), (2,), (3, 1)): [10, 7, 4], ((), (), (3, 1, 2)): [10, 10, 2]}\n",
      "{((3, 1, 2), (), ()): [2, 10, 10], ((3, 1), (2,), ()): [4, 7, 10], ((3,), (1, 2), ()): [6, 5, 10], ((3, 2), (), (1,)): [4, 10, 7], ((3,), (2,), (1,)): [6, 7, 7], ((3,), (), (1, 2)): [6, 10, 5], ((1, 2), (3,), ()): [5, 6, 10], ((1,), (3, 2), ()): [7, 4, 10], ((), (3, 1, 2), ()): [10, 2, 10], ((2,), (3,), (1,)): [7, 6, 7], ((), (3, 2), (1,)): [10, 4, 7], ((), (3,), (1, 2)): [10, 6, 5], ((1, 2), (), (3,)): [5, 10, 6], ((1,), (2,), (3,)): [7, 7, 6], ((), (1, 2), (3,)): [10, 5, 6], ((2,), (), (3, 1)): [7, 10, 4], ((), (2,), (3, 1)): [10, 7, 4], ((), (), (3, 1, 2)): [10, 10, 2]}\n",
      "{((2,), (), (3, 1)): [7, 10, 4], ((), (2,), (3, 1)): [10, 7, 4], ((), (), (3, 1, 2)): [10, 10, 2]}\n",
      "offers : [((), (3, 1, 2), ()), ((3, 1, 2), (), ()), ((2,), (), (3, 1))]\n",
      "Les agents [2] concèdent.\n",
      "Round 17 :\n",
      "{((3, 1, 2), (), ()): [2, 10, 10], ((3, 1), (2,), ()): [4, 7, 10], ((3,), (1, 2), ()): [6, 5, 10], ((3, 2), (), (1,)): [4, 10, 7], ((3,), (2,), (1,)): [6, 7, 7], ((3,), (), (1, 2)): [6, 10, 5], ((1, 2), (3,), ()): [5, 6, 10], ((1,), (3, 2), ()): [7, 4, 10], ((), (3, 1, 2), ()): [10, 2, 10], ((2,), (3,), (1,)): [7, 6, 7], ((), (3, 2), (1,)): [10, 4, 7], ((), (3,), (1, 2)): [10, 6, 5], ((1, 2), (), (3,)): [5, 10, 6], ((1,), (2,), (3,)): [7, 7, 6], ((), (1, 2), (3,)): [10, 5, 6], ((2,), (), (3, 1)): [7, 10, 4], ((), (2,), (3, 1)): [10, 7, 4], ((), (), (3, 1, 2)): [10, 10, 2]}\n",
      "{((3, 1, 2), (), ()): [2, 10, 10], ((3, 1), (2,), ()): [4, 7, 10], ((3,), (1, 2), ()): [6, 5, 10], ((3, 2), (), (1,)): [4, 10, 7], ((3,), (2,), (1,)): [6, 7, 7], ((3,), (), (1, 2)): [6, 10, 5], ((1, 2), (3,), ()): [5, 6, 10], ((1,), (3, 2), ()): [7, 4, 10], ((), (3, 1, 2), ()): [10, 2, 10], ((2,), (3,), (1,)): [7, 6, 7], ((), (3, 2), (1,)): [10, 4, 7], ((), (3,), (1, 2)): [10, 6, 5], ((1, 2), (), (3,)): [5, 10, 6], ((1,), (2,), (3,)): [7, 7, 6], ((), (1, 2), (3,)): [10, 5, 6], ((2,), (), (3, 1)): [7, 10, 4], ((), (2,), (3, 1)): [10, 7, 4], ((), (), (3, 1, 2)): [10, 10, 2]}\n",
      "{((), (2,), (3, 1)): [10, 7, 4], ((), (), (3, 1, 2)): [10, 10, 2]}\n",
      "offers : [((), (3, 1, 2), ()), ((3, 1, 2), (), ()), ((), (2,), (3, 1))]\n",
      "Les agents [2] concèdent.\n",
      "Round 18 :\n",
      "{((3, 1, 2), (), ()): [2, 10, 10], ((3, 1), (2,), ()): [4, 7, 10], ((3,), (1, 2), ()): [6, 5, 10], ((3, 2), (), (1,)): [4, 10, 7], ((3,), (2,), (1,)): [6, 7, 7], ((3,), (), (1, 2)): [6, 10, 5], ((1, 2), (3,), ()): [5, 6, 10], ((1,), (3, 2), ()): [7, 4, 10], ((), (3, 1, 2), ()): [10, 2, 10], ((2,), (3,), (1,)): [7, 6, 7], ((), (3, 2), (1,)): [10, 4, 7], ((), (3,), (1, 2)): [10, 6, 5], ((1, 2), (), (3,)): [5, 10, 6], ((1,), (2,), (3,)): [7, 7, 6], ((), (1, 2), (3,)): [10, 5, 6], ((2,), (), (3, 1)): [7, 10, 4], ((), (2,), (3, 1)): [10, 7, 4], ((), (), (3, 1, 2)): [10, 10, 2]}\n",
      "{((3, 1, 2), (), ()): [2, 10, 10], ((3, 1), (2,), ()): [4, 7, 10], ((3,), (1, 2), ()): [6, 5, 10], ((3, 2), (), (1,)): [4, 10, 7], ((3,), (2,), (1,)): [6, 7, 7], ((3,), (), (1, 2)): [6, 10, 5], ((1, 2), (3,), ()): [5, 6, 10], ((1,), (3, 2), ()): [7, 4, 10], ((), (3, 1, 2), ()): [10, 2, 10], ((2,), (3,), (1,)): [7, 6, 7], ((), (3, 2), (1,)): [10, 4, 7], ((), (3,), (1, 2)): [10, 6, 5], ((1, 2), (), (3,)): [5, 10, 6], ((1,), (2,), (3,)): [7, 7, 6], ((), (1, 2), (3,)): [10, 5, 6], ((2,), (), (3, 1)): [7, 10, 4], ((), (2,), (3, 1)): [10, 7, 4], ((), (), (3, 1, 2)): [10, 10, 2]}\n",
      "{((), (), (3, 1, 2)): [10, 10, 2]}\n",
      "offers : [((), (3, 1, 2), ()), ((3, 1, 2), (), ()), ((), (), (3, 1, 2))]\n",
      "Les agents [0, 1, 2] concèdent.\n",
      "La négociation a échouée...\n",
      "z_key : (1, 2, 3)\n"
     ]
    },
    {
     "ename": "KeyError",
     "evalue": "(1, 2, 3)",
     "output_type": "error",
     "traceback": [
      "\u001b[1;31m---------------------------------------------------------------------------\u001b[0m",
      "\u001b[1;31mKeyError\u001b[0m                                  Traceback (most recent call last)",
      "\u001b[1;32m<ipython-input-135-bff18c6338bf>\u001b[0m in \u001b[0;36m<module>\u001b[1;34m\u001b[0m\n\u001b[1;32m----> 1\u001b[1;33m \u001b[0mmulti\u001b[0m\u001b[1;33m.\u001b[0m\u001b[0mnegotiation\u001b[0m\u001b[1;33m(\u001b[0m\u001b[0mtriangle\u001b[0m\u001b[1;33m,\u001b[0m\u001b[0md_triangle\u001b[0m\u001b[1;33m,\u001b[0m\u001b[0mgreaterValue_triangle\u001b[0m\u001b[1;33m,\u001b[0m\u001b[1;34m\"zeuthen_Willingness_to_Risk_Conflict\"\u001b[0m\u001b[1;33m)\u001b[0m\u001b[1;33m\u001b[0m\u001b[1;33m\u001b[0m\u001b[0m\n\u001b[0m",
      "\u001b[1;32m~\\Documents\\MasterJupyter\\COCOMA\\Negotiation\\src\\multilateral.py\u001b[0m in \u001b[0;36mnegotiation\u001b[1;34m(world, d, greaterValue, zeuthenStrategy)\u001b[0m\n\u001b[0;32m    580\u001b[0m             \u001b[1;31m#print(\"z_key[i]-1 :\",z_key[i]-1)\u001b[0m\u001b[1;33m\u001b[0m\u001b[1;33m\u001b[0m\u001b[1;33m\u001b[0m\u001b[0m\n\u001b[0;32m    581\u001b[0m             \u001b[1;31m#utilities_conflict[z_key[i]] = allocations[offers[i]][z_key[i]-1]\u001b[0m\u001b[1;33m\u001b[0m\u001b[1;33m\u001b[0m\u001b[1;33m\u001b[0m\u001b[0m\n\u001b[1;32m--> 582\u001b[1;33m             \u001b[0mutilities_conflict\u001b[0m\u001b[1;33m[\u001b[0m\u001b[0mz_key\u001b[0m\u001b[1;33m[\u001b[0m\u001b[0mi\u001b[0m\u001b[1;33m]\u001b[0m\u001b[1;33m]\u001b[0m \u001b[1;33m=\u001b[0m \u001b[0magreements\u001b[0m\u001b[1;33m[\u001b[0m\u001b[0mz_key\u001b[0m\u001b[1;33m]\u001b[0m\u001b[1;33m[\u001b[0m\u001b[0mi\u001b[0m\u001b[1;33m+\u001b[0m\u001b[1;36m1\u001b[0m\u001b[1;33m]\u001b[0m\u001b[1;33m\u001b[0m\u001b[1;33m\u001b[0m\u001b[0m\n\u001b[0m\u001b[0;32m    583\u001b[0m             \u001b[1;31m# gros doute :\u001b[0m\u001b[1;33m\u001b[0m\u001b[1;33m\u001b[0m\u001b[1;33m\u001b[0m\u001b[0m\n\u001b[0;32m    584\u001b[0m             \u001b[1;31m# utilities_conflict[z_key[i]] ok dans le bon ordre car clé\u001b[0m\u001b[1;33m\u001b[0m\u001b[1;33m\u001b[0m\u001b[1;33m\u001b[0m\u001b[0m\n",
      "\u001b[1;31mKeyError\u001b[0m: (1, 2, 3)"
     ]
    }
   ],
   "source": [
    "multi.negotiation(triangle,d_triangle,greaterValue_triangle,\"zeuthen_Willingness_to_Risk_Conflict\")"
   ]
  },
  {
   "cell_type": "code",
   "execution_count": 117,
   "metadata": {},
   "outputs": [
    {
     "name": "stdout",
     "output_type": "stream",
     "text": [
      "Caractéristiques du problème :\n",
      "\n",
      "Agents : {1: (6, 6), 2: (9, 9), 3: (9, 3)}\n",
      "Objets : {1: (8, 5), 2: (8, 7), 3: (10, 6)}\n",
      "Distance de perception des agents : 5\n",
      "Objets visibles par les agents : {1: [(8, 5), (8, 7), (10, 6)], 2: [(8, 5), (8, 7), (10, 6)], 3: [(8, 5), (8, 7), (10, 6)]}\n",
      "Ensembles Z : {(1, 2, 3): {(10, 6), (8, 5), (8, 7)}}\n",
      "Coût de la plus grande tournée : 8\n",
      "Valeur supplémantaire ajoutée à : 2\n",
      "Valeur plus grande que le coût de la plus grande tournée possible : 10\n",
      "\n",
      "-----------------------------------------------------------------------\n",
      "Négociation par Monotonic Concession Protocol entre les agents (1, 2, 3) :\n",
      "-----------------------------------------------------------------------\n",
      "Point de conflit : [2, 2, 2]\n",
      "tasks : [3, 1, 2]\n",
      "Allocation avec bargaining :\n",
      "{((3, 1, 2), (), ()): [2, 10, 10], ((3, 1), (2,), ()): [4, 7, 10], ((3,), (1, 2), ()): [6, 5, 10], ((3, 2), (), (1,)): [4, 10, 7], ((3,), (2,), (1,)): [6, 7, 7], ((3,), (), (1, 2)): [6, 10, 5], ((1, 2), (3,), ()): [5, 6, 10], ((1,), (3, 2), ()): [7, 4, 10], ((), (3, 1, 2), ()): [10, 2, 10], ((2,), (3,), (1,)): [7, 6, 7], ((), (3, 2), (1,)): [10, 4, 7], ((), (3,), (1, 2)): [10, 6, 5], ((1, 2), (), (3,)): [5, 10, 6], ((1,), (2,), (3,)): [7, 7, 6], ((), (1, 2), (3,)): [10, 5, 6], ((2,), (), (3, 1)): [7, 10, 4], ((), (2,), (3, 1)): [10, 7, 4], ((), (), (3, 1, 2)): [10, 10, 2]}\n",
      "Round 1 :\n",
      "Les agents [0, 1, 2] concèdent.\n",
      "Round 2 :\n",
      "Les agents [0, 1, 2] concèdent.\n",
      "Round 3 :\n",
      "Les agents [0, 1, 2] concèdent.\n",
      "Round 4 :\n",
      "Les agents [0, 1, 2] concèdent.\n",
      "Round 5 :\n",
      "Les agents [0, 1, 2] concèdent.\n",
      "Round 6 :\n",
      "Les agents [0, 1, 2] concèdent.\n",
      "Round 7 :\n",
      "Les agents [0, 1, 2] concèdent.\n",
      "Round 8 :\n",
      "Les agents [0, 1, 2] concèdent.\n",
      "Round 9 :\n",
      "Les agents [0, 1, 2] concèdent.\n",
      "Round 10 :\n",
      "Les agents [0, 1, 2] concèdent.\n",
      "Round 11 :\n",
      "Les agents [0, 1, 2] concèdent.\n",
      "Round 12 :\n",
      "Les agents [0, 1, 2] concèdent.\n",
      "on fait un flip dice sur ces agents qui possèdent les meilleures offres :\n",
      "best_agents_ offers : [0, 1, 2]\n",
      "agreement : [((1,), (2,), (3,)), 7, 7, 6]\n",
      "nash_products : 100\n",
      "z_key : (1, 2, 3)\n",
      "-------------------------------------------------------------------------------------------------------\n",
      "Négociation entre les agents (1, 2, 3) :\n",
      "round         offer_a1        offer_a2        u1a1,u1a2   u2a1,u2a2   z1  z2\n",
      "1      ((), (3, 1, 2), ())       ((3, 1, 2), (), ())       (10, 2)        (2, 10)  200  200\n",
      "2      ((), (3, 2), (1,))       ((3, 2), (), (1,))       (10, 4)        (4, 10)  280  280\n",
      "3      ((), (3,), (1, 2))       ((3,), (), (1, 2))       (10, 6)        (6, 10)  300  300\n",
      "4      ((), (1, 2), (3,))       ((1, 2), (), (3,))       (10, 5)        (5, 10)  300  300\n",
      "5      ((), (2,), (3, 1))       ((2,), (), (3, 1))       (10, 7)        (7, 10)  280  280\n",
      "6      ((), (), (3, 1, 2))       ((), (), (3, 1, 2))       (10, 10)        (10, 10)  200  200\n",
      "7      ((1,), (3, 2), ())       ((3, 1), (2,), ())       (7, 4)        (4, 7)  280  280\n",
      "8      ((2,), (3,), (1,))       ((3,), (2,), (1,))       (7, 6)        (6, 7)  294  294\n",
      "9      ((1,), (2,), (3,))       ((1,), (2,), (3,))       (7, 7)        (7, 7)  294  294\n",
      "10      ((2,), (), (3, 1))       ((), (2,), (3, 1))       (7, 10)        (10, 7)  280  280\n",
      "11      ((3,), (1, 2), ())       ((1, 2), (3,), ())       (6, 5)        (5, 6)  300  300\n",
      "12      ((3,), (2,), (1,))       ((2,), (3,), (1,))       (6, 7)        (7, 6)  294  294\n",
      "-------------------------------------------------------------------------------------------------------\n",
      "\n",
      "\n",
      "Balanced outcome. End.\n"
     ]
    }
   ],
   "source": [
    "multi.negotiation(triangle,d_triangle,greaterValue_triangle,\"zeuthen_A_Product_increasing_Strategy\")"
   ]
  },
  {
   "cell_type": "code",
   "execution_count": 136,
   "metadata": {},
   "outputs": [
    {
     "name": "stdout",
     "output_type": "stream",
     "text": [
      "Caractéristiques du problème :\n",
      "\n",
      "Agents : {1: (6, 6), 2: (9, 9), 3: (9, 3)}\n",
      "Objets : {1: (8, 5), 2: (8, 7), 3: (10, 6)}\n",
      "Distance de perception des agents : 5\n",
      "Objets visibles par les agents : {1: [(8, 5), (8, 7), (10, 6)], 2: [(8, 5), (8, 7), (10, 6)], 3: [(8, 5), (8, 7), (10, 6)]}\n",
      "Ensembles Z : {(1, 2, 3): {(10, 6), (8, 5), (8, 7)}}\n",
      "Coût de la plus grande tournée : 8\n",
      "Valeur supplémantaire ajoutée à : 2\n",
      "Valeur plus grande que le coût de la plus grande tournée possible : 10\n",
      "\n",
      "-----------------------------------------------------------------------\n",
      "Négociation par Monotonic Concession Protocol entre les agents (1, 2, 3) :\n",
      "-----------------------------------------------------------------------\n",
      "Point de conflit : [2, 2, 2]\n",
      "tasks : [3, 1, 2]\n",
      "Allocation avec bargaining :\n",
      "{((3, 1, 2), (), ()): [2, 10, 10], ((3, 1), (2,), ()): [4, 7, 10], ((3,), (1, 2), ()): [6, 5, 10], ((3, 2), (), (1,)): [4, 10, 7], ((3,), (2,), (1,)): [6, 7, 7], ((3,), (), (1, 2)): [6, 10, 5], ((1, 2), (3,), ()): [5, 6, 10], ((1,), (3, 2), ()): [7, 4, 10], ((), (3, 1, 2), ()): [10, 2, 10], ((2,), (3,), (1,)): [7, 6, 7], ((), (3, 2), (1,)): [10, 4, 7], ((), (3,), (1, 2)): [10, 6, 5], ((1, 2), (), (3,)): [5, 10, 6], ((1,), (2,), (3,)): [7, 7, 6], ((), (1, 2), (3,)): [10, 5, 6], ((2,), (), (3, 1)): [7, 10, 4], ((), (2,), (3, 1)): [10, 7, 4], ((), (), (3, 1, 2)): [10, 10, 2]}\n",
      "Round 1 :\n",
      "Les agents [0, 1, 2] concèdent.\n",
      "Round 2 :\n",
      "{((3, 1, 2), (), ()): [2, 10, 10], ((3, 1), (2,), ()): [4, 7, 10], ((3,), (1, 2), ()): [6, 5, 10], ((3, 2), (), (1,)): [4, 10, 7], ((3,), (2,), (1,)): [6, 7, 7], ((3,), (), (1, 2)): [6, 10, 5], ((1, 2), (3,), ()): [5, 6, 10], ((1,), (3, 2), ()): [7, 4, 10], ((2,), (3,), (1,)): [7, 6, 7], ((), (3, 2), (1,)): [10, 4, 7], ((), (3,), (1, 2)): [10, 6, 5], ((1, 2), (), (3,)): [5, 10, 6], ((1,), (2,), (3,)): [7, 7, 6], ((), (1, 2), (3,)): [10, 5, 6], ((2,), (), (3, 1)): [7, 10, 4], ((), (2,), (3, 1)): [10, 7, 4], ((), (), (3, 1, 2)): [10, 10, 2]}\n",
      "{((3, 1), (2,), ()): [4, 7, 10], ((3,), (1, 2), ()): [6, 5, 10], ((3, 2), (), (1,)): [4, 10, 7], ((3,), (2,), (1,)): [6, 7, 7], ((3,), (), (1, 2)): [6, 10, 5], ((1, 2), (3,), ()): [5, 6, 10], ((1,), (3, 2), ()): [7, 4, 10], ((), (3, 1, 2), ()): [10, 2, 10], ((2,), (3,), (1,)): [7, 6, 7], ((), (3, 2), (1,)): [10, 4, 7], ((), (3,), (1, 2)): [10, 6, 5], ((1, 2), (), (3,)): [5, 10, 6], ((1,), (2,), (3,)): [7, 7, 6], ((), (1, 2), (3,)): [10, 5, 6], ((2,), (), (3, 1)): [7, 10, 4], ((), (2,), (3, 1)): [10, 7, 4], ((), (), (3, 1, 2)): [10, 10, 2]}\n",
      "{((3, 1), (2,), ()): [4, 7, 10], ((3,), (1, 2), ()): [6, 5, 10], ((3, 2), (), (1,)): [4, 10, 7], ((3,), (2,), (1,)): [6, 7, 7], ((3,), (), (1, 2)): [6, 10, 5], ((1, 2), (3,), ()): [5, 6, 10], ((1,), (3, 2), ()): [7, 4, 10], ((), (3, 1, 2), ()): [10, 2, 10], ((2,), (3,), (1,)): [7, 6, 7], ((), (3, 2), (1,)): [10, 4, 7], ((), (3,), (1, 2)): [10, 6, 5], ((1, 2), (), (3,)): [5, 10, 6], ((1,), (2,), (3,)): [7, 7, 6], ((), (1, 2), (3,)): [10, 5, 6], ((2,), (), (3, 1)): [7, 10, 4], ((), (2,), (3, 1)): [10, 7, 4], ((), (), (3, 1, 2)): [10, 10, 2]}\n",
      "offers : [((), (3, 2), (1,)), ((3, 2), (), (1,)), ((3, 1), (2,), ())]\n",
      "Les agents [0, 1, 2] concèdent.\n",
      "Round 3 :\n",
      "{((3, 1, 2), (), ()): [2, 10, 10], ((3, 1), (2,), ()): [4, 7, 10], ((3,), (1, 2), ()): [6, 5, 10], ((3, 2), (), (1,)): [4, 10, 7], ((3,), (2,), (1,)): [6, 7, 7], ((3,), (), (1, 2)): [6, 10, 5], ((1, 2), (3,), ()): [5, 6, 10], ((1,), (3, 2), ()): [7, 4, 10], ((2,), (3,), (1,)): [7, 6, 7], ((), (3,), (1, 2)): [10, 6, 5], ((1, 2), (), (3,)): [5, 10, 6], ((1,), (2,), (3,)): [7, 7, 6], ((), (1, 2), (3,)): [10, 5, 6], ((2,), (), (3, 1)): [7, 10, 4], ((), (2,), (3, 1)): [10, 7, 4], ((), (), (3, 1, 2)): [10, 10, 2]}\n",
      "{((3, 1), (2,), ()): [4, 7, 10], ((3,), (1, 2), ()): [6, 5, 10], ((3,), (2,), (1,)): [6, 7, 7], ((3,), (), (1, 2)): [6, 10, 5], ((1, 2), (3,), ()): [5, 6, 10], ((1,), (3, 2), ()): [7, 4, 10], ((), (3, 1, 2), ()): [10, 2, 10], ((2,), (3,), (1,)): [7, 6, 7], ((), (3, 2), (1,)): [10, 4, 7], ((), (3,), (1, 2)): [10, 6, 5], ((1, 2), (), (3,)): [5, 10, 6], ((1,), (2,), (3,)): [7, 7, 6], ((), (1, 2), (3,)): [10, 5, 6], ((2,), (), (3, 1)): [7, 10, 4], ((), (2,), (3, 1)): [10, 7, 4], ((), (), (3, 1, 2)): [10, 10, 2]}\n",
      "{((3,), (1, 2), ()): [6, 5, 10], ((3, 2), (), (1,)): [4, 10, 7], ((3,), (2,), (1,)): [6, 7, 7], ((3,), (), (1, 2)): [6, 10, 5], ((1, 2), (3,), ()): [5, 6, 10], ((1,), (3, 2), ()): [7, 4, 10], ((), (3, 1, 2), ()): [10, 2, 10], ((2,), (3,), (1,)): [7, 6, 7], ((), (3, 2), (1,)): [10, 4, 7], ((), (3,), (1, 2)): [10, 6, 5], ((1, 2), (), (3,)): [5, 10, 6], ((1,), (2,), (3,)): [7, 7, 6], ((), (1, 2), (3,)): [10, 5, 6], ((2,), (), (3, 1)): [7, 10, 4], ((), (2,), (3, 1)): [10, 7, 4], ((), (), (3, 1, 2)): [10, 10, 2]}\n",
      "offers : [((), (3,), (1, 2)), ((3,), (), (1, 2)), ((3,), (1, 2), ())]\n",
      "Les agents [0, 1, 2] concèdent.\n",
      "Round 4 :\n",
      "{((3, 1, 2), (), ()): [2, 10, 10], ((3, 1), (2,), ()): [4, 7, 10], ((3,), (1, 2), ()): [6, 5, 10], ((3, 2), (), (1,)): [4, 10, 7], ((3,), (2,), (1,)): [6, 7, 7], ((3,), (), (1, 2)): [6, 10, 5], ((1, 2), (3,), ()): [5, 6, 10], ((1,), (3, 2), ()): [7, 4, 10], ((2,), (3,), (1,)): [7, 6, 7], ((1, 2), (), (3,)): [5, 10, 6], ((1,), (2,), (3,)): [7, 7, 6], ((), (1, 2), (3,)): [10, 5, 6], ((2,), (), (3, 1)): [7, 10, 4], ((), (2,), (3, 1)): [10, 7, 4], ((), (), (3, 1, 2)): [10, 10, 2]}\n",
      "{((3, 1), (2,), ()): [4, 7, 10], ((3,), (1, 2), ()): [6, 5, 10], ((3,), (2,), (1,)): [6, 7, 7], ((1, 2), (3,), ()): [5, 6, 10], ((1,), (3, 2), ()): [7, 4, 10], ((), (3, 1, 2), ()): [10, 2, 10], ((2,), (3,), (1,)): [7, 6, 7], ((), (3, 2), (1,)): [10, 4, 7], ((), (3,), (1, 2)): [10, 6, 5], ((1, 2), (), (3,)): [5, 10, 6], ((1,), (2,), (3,)): [7, 7, 6], ((), (1, 2), (3,)): [10, 5, 6], ((2,), (), (3, 1)): [7, 10, 4], ((), (2,), (3, 1)): [10, 7, 4], ((), (), (3, 1, 2)): [10, 10, 2]}\n",
      "{((3, 2), (), (1,)): [4, 10, 7], ((3,), (2,), (1,)): [6, 7, 7], ((3,), (), (1, 2)): [6, 10, 5], ((1, 2), (3,), ()): [5, 6, 10], ((1,), (3, 2), ()): [7, 4, 10], ((), (3, 1, 2), ()): [10, 2, 10], ((2,), (3,), (1,)): [7, 6, 7], ((), (3, 2), (1,)): [10, 4, 7], ((), (3,), (1, 2)): [10, 6, 5], ((1, 2), (), (3,)): [5, 10, 6], ((1,), (2,), (3,)): [7, 7, 6], ((), (1, 2), (3,)): [10, 5, 6], ((2,), (), (3, 1)): [7, 10, 4], ((), (2,), (3, 1)): [10, 7, 4], ((), (), (3, 1, 2)): [10, 10, 2]}\n",
      "offers : [((), (1, 2), (3,)), ((1, 2), (), (3,)), ((1, 2), (3,), ())]\n",
      "Les agents [0, 1, 2] concèdent.\n",
      "Round 5 :\n",
      "{((3, 1, 2), (), ()): [2, 10, 10], ((3, 1), (2,), ()): [4, 7, 10], ((3,), (1, 2), ()): [6, 5, 10], ((3, 2), (), (1,)): [4, 10, 7], ((3,), (2,), (1,)): [6, 7, 7], ((3,), (), (1, 2)): [6, 10, 5], ((1, 2), (3,), ()): [5, 6, 10], ((1,), (3, 2), ()): [7, 4, 10], ((2,), (3,), (1,)): [7, 6, 7], ((1, 2), (), (3,)): [5, 10, 6], ((1,), (2,), (3,)): [7, 7, 6], ((2,), (), (3, 1)): [7, 10, 4], ((), (2,), (3, 1)): [10, 7, 4], ((), (), (3, 1, 2)): [10, 10, 2]}\n",
      "{((3, 1), (2,), ()): [4, 7, 10], ((3,), (1, 2), ()): [6, 5, 10], ((3,), (2,), (1,)): [6, 7, 7], ((1, 2), (3,), ()): [5, 6, 10], ((1,), (3, 2), ()): [7, 4, 10], ((), (3, 1, 2), ()): [10, 2, 10], ((2,), (3,), (1,)): [7, 6, 7], ((), (3, 2), (1,)): [10, 4, 7], ((), (3,), (1, 2)): [10, 6, 5], ((1,), (2,), (3,)): [7, 7, 6], ((), (1, 2), (3,)): [10, 5, 6], ((2,), (), (3, 1)): [7, 10, 4], ((), (2,), (3, 1)): [10, 7, 4], ((), (), (3, 1, 2)): [10, 10, 2]}\n",
      "{((3, 2), (), (1,)): [4, 10, 7], ((3,), (2,), (1,)): [6, 7, 7], ((3,), (), (1, 2)): [6, 10, 5], ((1,), (3, 2), ()): [7, 4, 10], ((), (3, 1, 2), ()): [10, 2, 10], ((2,), (3,), (1,)): [7, 6, 7], ((), (3, 2), (1,)): [10, 4, 7], ((), (3,), (1, 2)): [10, 6, 5], ((1, 2), (), (3,)): [5, 10, 6], ((1,), (2,), (3,)): [7, 7, 6], ((), (1, 2), (3,)): [10, 5, 6], ((2,), (), (3, 1)): [7, 10, 4], ((), (2,), (3, 1)): [10, 7, 4], ((), (), (3, 1, 2)): [10, 10, 2]}\n",
      "offers : [((), (2,), (3, 1)), ((2,), (), (3, 1)), ((1,), (3, 2), ())]\n",
      "Les agents [0, 1, 2] concèdent.\n",
      "Round 6 :\n",
      "{((3, 1, 2), (), ()): [2, 10, 10], ((3, 1), (2,), ()): [4, 7, 10], ((3,), (1, 2), ()): [6, 5, 10], ((3, 2), (), (1,)): [4, 10, 7], ((3,), (2,), (1,)): [6, 7, 7], ((3,), (), (1, 2)): [6, 10, 5], ((1, 2), (3,), ()): [5, 6, 10], ((1,), (3, 2), ()): [7, 4, 10], ((2,), (3,), (1,)): [7, 6, 7], ((1, 2), (), (3,)): [5, 10, 6], ((1,), (2,), (3,)): [7, 7, 6], ((2,), (), (3, 1)): [7, 10, 4], ((), (), (3, 1, 2)): [10, 10, 2]}\n",
      "{((3, 1), (2,), ()): [4, 7, 10], ((3,), (1, 2), ()): [6, 5, 10], ((3,), (2,), (1,)): [6, 7, 7], ((1, 2), (3,), ()): [5, 6, 10], ((1,), (3, 2), ()): [7, 4, 10], ((), (3, 1, 2), ()): [10, 2, 10], ((2,), (3,), (1,)): [7, 6, 7], ((), (3, 2), (1,)): [10, 4, 7], ((), (3,), (1, 2)): [10, 6, 5], ((1,), (2,), (3,)): [7, 7, 6], ((), (1, 2), (3,)): [10, 5, 6], ((), (2,), (3, 1)): [10, 7, 4], ((), (), (3, 1, 2)): [10, 10, 2]}\n",
      "{((3, 2), (), (1,)): [4, 10, 7], ((3,), (2,), (1,)): [6, 7, 7], ((3,), (), (1, 2)): [6, 10, 5], ((), (3, 1, 2), ()): [10, 2, 10], ((2,), (3,), (1,)): [7, 6, 7], ((), (3, 2), (1,)): [10, 4, 7], ((), (3,), (1, 2)): [10, 6, 5], ((1, 2), (), (3,)): [5, 10, 6], ((1,), (2,), (3,)): [7, 7, 6], ((), (1, 2), (3,)): [10, 5, 6], ((2,), (), (3, 1)): [7, 10, 4], ((), (2,), (3, 1)): [10, 7, 4], ((), (), (3, 1, 2)): [10, 10, 2]}\n",
      "offers : [((), (), (3, 1, 2)), ((), (), (3, 1, 2)), ((), (3, 1, 2), ())]\n",
      "Les agents [0, 1, 2] concèdent.\n",
      "Round 7 :\n",
      "{((3, 1, 2), (), ()): [2, 10, 10], ((3, 1), (2,), ()): [4, 7, 10], ((3,), (1, 2), ()): [6, 5, 10], ((3, 2), (), (1,)): [4, 10, 7], ((3,), (2,), (1,)): [6, 7, 7], ((3,), (), (1, 2)): [6, 10, 5], ((1, 2), (3,), ()): [5, 6, 10], ((1,), (3, 2), ()): [7, 4, 10], ((2,), (3,), (1,)): [7, 6, 7], ((1, 2), (), (3,)): [5, 10, 6], ((1,), (2,), (3,)): [7, 7, 6], ((2,), (), (3, 1)): [7, 10, 4]}\n",
      "{((3, 1), (2,), ()): [4, 7, 10], ((3,), (1, 2), ()): [6, 5, 10], ((3,), (2,), (1,)): [6, 7, 7], ((1, 2), (3,), ()): [5, 6, 10], ((1,), (3, 2), ()): [7, 4, 10], ((), (3, 1, 2), ()): [10, 2, 10], ((2,), (3,), (1,)): [7, 6, 7], ((), (3, 2), (1,)): [10, 4, 7], ((), (3,), (1, 2)): [10, 6, 5], ((1,), (2,), (3,)): [7, 7, 6], ((), (1, 2), (3,)): [10, 5, 6], ((), (2,), (3, 1)): [10, 7, 4]}\n",
      "{((3, 2), (), (1,)): [4, 10, 7], ((3,), (2,), (1,)): [6, 7, 7], ((3,), (), (1, 2)): [6, 10, 5], ((2,), (3,), (1,)): [7, 6, 7], ((), (3, 2), (1,)): [10, 4, 7], ((), (3,), (1, 2)): [10, 6, 5], ((1, 2), (), (3,)): [5, 10, 6], ((1,), (2,), (3,)): [7, 7, 6], ((), (1, 2), (3,)): [10, 5, 6], ((2,), (), (3, 1)): [7, 10, 4], ((), (2,), (3, 1)): [10, 7, 4], ((), (), (3, 1, 2)): [10, 10, 2]}\n",
      "offers : [((1,), (3, 2), ()), ((3, 1), (2,), ()), ((3, 2), (), (1,))]\n",
      "Les agents [0, 1, 2] concèdent.\n",
      "Round 8 :\n",
      "{((3, 1, 2), (), ()): [2, 10, 10], ((3, 1), (2,), ()): [4, 7, 10], ((3,), (1, 2), ()): [6, 5, 10], ((3, 2), (), (1,)): [4, 10, 7], ((3,), (2,), (1,)): [6, 7, 7], ((3,), (), (1, 2)): [6, 10, 5], ((1, 2), (3,), ()): [5, 6, 10], ((2,), (3,), (1,)): [7, 6, 7], ((1, 2), (), (3,)): [5, 10, 6], ((1,), (2,), (3,)): [7, 7, 6], ((2,), (), (3, 1)): [7, 10, 4]}\n",
      "{((3,), (1, 2), ()): [6, 5, 10], ((3,), (2,), (1,)): [6, 7, 7], ((1, 2), (3,), ()): [5, 6, 10], ((1,), (3, 2), ()): [7, 4, 10], ((), (3, 1, 2), ()): [10, 2, 10], ((2,), (3,), (1,)): [7, 6, 7], ((), (3, 2), (1,)): [10, 4, 7], ((), (3,), (1, 2)): [10, 6, 5], ((1,), (2,), (3,)): [7, 7, 6], ((), (1, 2), (3,)): [10, 5, 6], ((), (2,), (3, 1)): [10, 7, 4]}\n",
      "{((3,), (2,), (1,)): [6, 7, 7], ((3,), (), (1, 2)): [6, 10, 5], ((2,), (3,), (1,)): [7, 6, 7], ((), (3, 2), (1,)): [10, 4, 7], ((), (3,), (1, 2)): [10, 6, 5], ((1, 2), (), (3,)): [5, 10, 6], ((1,), (2,), (3,)): [7, 7, 6], ((), (1, 2), (3,)): [10, 5, 6], ((2,), (), (3, 1)): [7, 10, 4], ((), (2,), (3, 1)): [10, 7, 4], ((), (), (3, 1, 2)): [10, 10, 2]}\n",
      "offers : [((2,), (3,), (1,)), ((3,), (2,), (1,)), ((3,), (2,), (1,))]\n",
      "Les agents [0, 1, 2] concèdent.\n",
      "Round 9 :\n",
      "{((3, 1, 2), (), ()): [2, 10, 10], ((3, 1), (2,), ()): [4, 7, 10], ((3,), (1, 2), ()): [6, 5, 10], ((3, 2), (), (1,)): [4, 10, 7], ((3,), (2,), (1,)): [6, 7, 7], ((3,), (), (1, 2)): [6, 10, 5], ((1, 2), (3,), ()): [5, 6, 10], ((1, 2), (), (3,)): [5, 10, 6], ((1,), (2,), (3,)): [7, 7, 6], ((2,), (), (3, 1)): [7, 10, 4]}\n",
      "{((3,), (1, 2), ()): [6, 5, 10], ((1, 2), (3,), ()): [5, 6, 10], ((1,), (3, 2), ()): [7, 4, 10], ((), (3, 1, 2), ()): [10, 2, 10], ((2,), (3,), (1,)): [7, 6, 7], ((), (3, 2), (1,)): [10, 4, 7], ((), (3,), (1, 2)): [10, 6, 5], ((1,), (2,), (3,)): [7, 7, 6], ((), (1, 2), (3,)): [10, 5, 6], ((), (2,), (3, 1)): [10, 7, 4]}\n",
      "{((3,), (), (1, 2)): [6, 10, 5], ((2,), (3,), (1,)): [7, 6, 7], ((), (3, 2), (1,)): [10, 4, 7], ((), (3,), (1, 2)): [10, 6, 5], ((1, 2), (), (3,)): [5, 10, 6], ((1,), (2,), (3,)): [7, 7, 6], ((), (1, 2), (3,)): [10, 5, 6], ((2,), (), (3, 1)): [7, 10, 4], ((), (2,), (3, 1)): [10, 7, 4], ((), (), (3, 1, 2)): [10, 10, 2]}\n",
      "offers : [((1,), (2,), (3,)), ((1,), (2,), (3,)), ((2,), (3,), (1,))]\n",
      "Les agents [0, 1, 2] concèdent.\n",
      "Round 10 :\n",
      "{((3, 1, 2), (), ()): [2, 10, 10], ((3, 1), (2,), ()): [4, 7, 10], ((3,), (1, 2), ()): [6, 5, 10], ((3, 2), (), (1,)): [4, 10, 7], ((3,), (2,), (1,)): [6, 7, 7], ((3,), (), (1, 2)): [6, 10, 5], ((1, 2), (3,), ()): [5, 6, 10], ((1, 2), (), (3,)): [5, 10, 6], ((2,), (), (3, 1)): [7, 10, 4]}\n",
      "{((3,), (1, 2), ()): [6, 5, 10], ((1, 2), (3,), ()): [5, 6, 10], ((1,), (3, 2), ()): [7, 4, 10], ((), (3, 1, 2), ()): [10, 2, 10], ((2,), (3,), (1,)): [7, 6, 7], ((), (3, 2), (1,)): [10, 4, 7], ((), (3,), (1, 2)): [10, 6, 5], ((), (1, 2), (3,)): [10, 5, 6], ((), (2,), (3, 1)): [10, 7, 4]}\n",
      "{((3,), (), (1, 2)): [6, 10, 5], ((), (3, 2), (1,)): [10, 4, 7], ((), (3,), (1, 2)): [10, 6, 5], ((1, 2), (), (3,)): [5, 10, 6], ((1,), (2,), (3,)): [7, 7, 6], ((), (1, 2), (3,)): [10, 5, 6], ((2,), (), (3, 1)): [7, 10, 4], ((), (2,), (3, 1)): [10, 7, 4], ((), (), (3, 1, 2)): [10, 10, 2]}\n",
      "offers : [((2,), (), (3, 1)), ((), (2,), (3, 1)), ((), (3, 2), (1,))]\n",
      "Les agents [0, 1, 2] concèdent.\n",
      "Round 11 :\n",
      "{((3, 1, 2), (), ()): [2, 10, 10], ((3, 1), (2,), ()): [4, 7, 10], ((3,), (1, 2), ()): [6, 5, 10], ((3, 2), (), (1,)): [4, 10, 7], ((3,), (2,), (1,)): [6, 7, 7], ((3,), (), (1, 2)): [6, 10, 5], ((1, 2), (3,), ()): [5, 6, 10], ((1, 2), (), (3,)): [5, 10, 6]}\n",
      "{((3,), (1, 2), ()): [6, 5, 10], ((1, 2), (3,), ()): [5, 6, 10], ((1,), (3, 2), ()): [7, 4, 10], ((), (3, 1, 2), ()): [10, 2, 10], ((2,), (3,), (1,)): [7, 6, 7], ((), (3, 2), (1,)): [10, 4, 7], ((), (3,), (1, 2)): [10, 6, 5], ((), (1, 2), (3,)): [10, 5, 6]}\n",
      "{((3,), (), (1, 2)): [6, 10, 5], ((), (3,), (1, 2)): [10, 6, 5], ((1, 2), (), (3,)): [5, 10, 6], ((1,), (2,), (3,)): [7, 7, 6], ((), (1, 2), (3,)): [10, 5, 6], ((2,), (), (3, 1)): [7, 10, 4], ((), (2,), (3, 1)): [10, 7, 4], ((), (), (3, 1, 2)): [10, 10, 2]}\n",
      "offers : [((3,), (1, 2), ()), ((1, 2), (3,), ()), ((1, 2), (), (3,))]\n",
      "Les agents [0, 1, 2] concèdent.\n",
      "Round 12 :\n",
      "{((3, 1, 2), (), ()): [2, 10, 10], ((3, 1), (2,), ()): [4, 7, 10], ((3, 2), (), (1,)): [4, 10, 7], ((3,), (2,), (1,)): [6, 7, 7], ((3,), (), (1, 2)): [6, 10, 5], ((1, 2), (3,), ()): [5, 6, 10], ((1, 2), (), (3,)): [5, 10, 6]}\n",
      "{((3,), (1, 2), ()): [6, 5, 10], ((1,), (3, 2), ()): [7, 4, 10], ((), (3, 1, 2), ()): [10, 2, 10], ((2,), (3,), (1,)): [7, 6, 7], ((), (3, 2), (1,)): [10, 4, 7], ((), (3,), (1, 2)): [10, 6, 5], ((), (1, 2), (3,)): [10, 5, 6]}\n",
      "{((3,), (), (1, 2)): [6, 10, 5], ((), (3,), (1, 2)): [10, 6, 5], ((1,), (2,), (3,)): [7, 7, 6], ((), (1, 2), (3,)): [10, 5, 6], ((2,), (), (3, 1)): [7, 10, 4], ((), (2,), (3, 1)): [10, 7, 4], ((), (), (3, 1, 2)): [10, 10, 2]}\n",
      "offers : [((3,), (2,), (1,)), ((2,), (3,), (1,)), ((1,), (2,), (3,))]\n",
      "Les agents [0, 1, 2] concèdent.\n",
      "on fait un flip dice sur ces agents qui possèdent les meilleures offres :\n",
      "best_agents_ offers : [0, 1, 2]\n",
      "agreement : [((1,), (2,), (3,)), 7, 7, 6]\n",
      "nash_products : 100\n",
      "z_key : (1, 2, 3)\n",
      "-------------------------------------------------------------------------------------------------------\n",
      "Négociation entre les agents (1, 2, 3) :\n",
      "round         offer_a1        offer_a2        u1a1,u1a2   u2a1,u2a2   z1  z2\n",
      "1      ((), (3, 1, 2), ())       ((3, 1, 2), (), ())       (10, 2)        (2, 10)  281  281\n",
      "2      ((), (3, 2), (1,))       ((3, 2), (), (1,))       (10, 4)        (4, 10)  277  277\n",
      "3      ((), (3,), (1, 2))       ((3,), (), (1, 2))       (10, 6)        (6, 10)  281  281\n",
      "4      ((), (1, 2), (3,))       ((1, 2), (), (3,))       (10, 5)        (5, 10)  281  281\n",
      "5      ((), (2,), (3, 1))       ((2,), (), (3, 1))       (10, 7)        (7, 10)  277  277\n",
      "6      ((), (), (3, 1, 2))       ((), (), (3, 1, 2))       (10, 10)        (10, 10)  281  281\n",
      "7      ((1,), (3, 2), ())       ((3, 1), (2,), ())       (7, 4)        (4, 7)  277  277\n",
      "8      ((2,), (3,), (1,))       ((3,), (2,), (1,))       (7, 6)        (6, 7)  267  267\n",
      "9      ((1,), (2,), (3,))       ((1,), (2,), (3,))       (7, 7)        (7, 7)  267  267\n",
      "10      ((2,), (), (3, 1))       ((), (2,), (3, 1))       (7, 10)        (10, 7)  277  277\n",
      "11      ((3,), (1, 2), ())       ((1, 2), (3,), ())       (6, 5)        (5, 6)  281  281\n",
      "12      ((3,), (2,), (1,))       ((2,), (3,), (1,))       (6, 7)        (7, 6)  267  267\n",
      "-------------------------------------------------------------------------------------------------------\n",
      "\n",
      "\n",
      "Balanced outcome. End.\n"
     ]
    }
   ],
   "source": [
    "multi.negotiation(triangle,d_triangle,greaterValue_triangle,\"zeuthen_Sum_of_Products_of_Pairs\")"
   ]
  },
  {
   "cell_type": "code",
   "execution_count": null,
   "metadata": {},
   "outputs": [],
   "source": []
  }
 ],
 "metadata": {
  "kernelspec": {
   "display_name": "Python 3",
   "language": "python",
   "name": "python3"
  },
  "language_info": {
   "codemirror_mode": {
    "name": "ipython",
    "version": 3
   },
   "file_extension": ".py",
   "mimetype": "text/x-python",
   "name": "python",
   "nbconvert_exporter": "python",
   "pygments_lexer": "ipython3",
   "version": "3.7.9"
  }
 },
 "nbformat": 4,
 "nbformat_minor": 4
}
