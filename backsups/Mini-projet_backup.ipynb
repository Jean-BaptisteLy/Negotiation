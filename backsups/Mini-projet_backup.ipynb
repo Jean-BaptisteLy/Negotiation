{
 "cells": [
  {
   "cell_type": "markdown",
   "metadata": {},
   "source": [
    "# Mini-projet : Monotonic Concession Protocol"
   ]
  },
  {
   "cell_type": "markdown",
   "metadata": {},
   "source": [
    "LY Jean-Baptiste - OSUNA Pamela"
   ]
  },
  {
   "cell_type": "markdown",
   "metadata": {},
   "source": [
    "## Monotonic Concession Protocols for Bilateral Negotiation"
   ]
  },
  {
   "cell_type": "code",
   "execution_count": null,
   "metadata": {},
   "outputs": [],
   "source": [
    "import matplotlib.pyplot as plt\n",
    "import itertools as it\n",
    "import sys\n",
    "sys.path.append('../')\n",
    "import src\n",
    "from src import environment as env\n",
    "from src import resolution as res\n",
    "from graphviz import Digraph\n",
    "%reload_ext autoreload\n",
    "%autoreload 2\n",
    "from IPython.display import Image"
   ]
  },
  {
   "cell_type": "code",
   "execution_count": null,
   "metadata": {},
   "outputs": [],
   "source": [
    "line = env.World(10)\n",
    "agents = line.create_agents([(3,8),(6,5),(9,3)])\n",
    "objects = line.create_objects([(3,6),(6,8),(5,6),(6,4),(8,3),(9,5)])\n",
    "greaterValue = 2\n",
    "line.display_grid()"
   ]
  },
  {
   "cell_type": "code",
   "execution_count": null,
   "metadata": {},
   "outputs": [],
   "source": [
    "d = 4\n",
    "res.negotiation(line,d,greaterValue)"
   ]
  },
  {
   "cell_type": "code",
   "execution_count": null,
   "metadata": {},
   "outputs": [],
   "source": [
    "d = 100\n",
    "res.negotiation(line,d,greaterValue)"
   ]
  },
  {
   "cell_type": "code",
   "execution_count": null,
   "metadata": {},
   "outputs": [],
   "source": [
    "# TODO: construire un autre exemple pour vérifier que ça marche bien\n",
    "pamela = env.World(10)\n",
    "agents = pamela.create_agents([(3,8),(6,5),(9,3)])\n",
    "objects = pamela.create_objects([(3,6),(6,8),(5,6),(6,4),(8,3),(9,5)])\n",
    "d = 4\n",
    "greaterValue = 2\n",
    "pamela.display_grid()\n",
    "res.negotiation(pamela,d,greaterValue)"
   ]
  },
  {
   "cell_type": "markdown",
   "metadata": {},
   "source": [
    "## Monotonic Concession Protocols for Multilateral Negotiation"
   ]
  },
  {
   "cell_type": "code",
   "execution_count": null,
   "metadata": {},
   "outputs": [],
   "source": [
    "circle = env.World(11)\n",
    "agents = circle.create_agents([(6,8),(4,6),(8,6)])\n",
    "objects = circle.create_objects([(6,6),(4,8),(5,4)])\n",
    "d = 100\n",
    "greaterValue = 2\n",
    "circle.display_grid()"
   ]
  },
  {
   "cell_type": "code",
   "execution_count": null,
   "metadata": {},
   "outputs": [],
   "source": []
  }
 ],
 "metadata": {
  "kernelspec": {
   "display_name": "Python 3",
   "language": "python",
   "name": "python3"
  },
  "language_info": {
   "codemirror_mode": {
    "name": "ipython",
    "version": 3
   },
   "file_extension": ".py",
   "mimetype": "text/x-python",
   "name": "python",
   "nbconvert_exporter": "python",
   "pygments_lexer": "ipython3",
   "version": "3.7.9"
  }
 },
 "nbformat": 4,
 "nbformat_minor": 4
}
