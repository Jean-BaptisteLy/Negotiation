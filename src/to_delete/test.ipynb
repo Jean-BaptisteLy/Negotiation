{
 "metadata": {
  "language_info": {
   "codemirror_mode": {
    "name": "ipython",
    "version": 3
   },
   "file_extension": ".py",
   "mimetype": "text/x-python",
   "name": "python",
   "nbconvert_exporter": "python",
   "pygments_lexer": "ipython3",
   "version": "3.7.4-final"
  },
  "orig_nbformat": 2,
  "kernelspec": {
   "name": "python3",
   "display_name": "Python 3",
   "language": "python"
  }
 },
 "nbformat": 4,
 "nbformat_minor": 2,
 "cells": [
  {
   "cell_type": "code",
   "execution_count": 4,
   "metadata": {},
   "outputs": [],
   "source": [
    "\n",
    "from itertools import *"
   ]
  },
  {
   "cell_type": "code",
   "execution_count": 8,
   "metadata": {},
   "outputs": [],
   "source": [
    "def partition(tasks):\n",
    "    \"\"\"\n",
    "    Cacule toutes les partitions possibles étant donné un ensemble de tâches.\n",
    "    \"\"\"\n",
    "    l1 = []\n",
    "    l2 = []\n",
    "    for pattern in product([True,False],repeat=len(tasks)):\n",
    "        l1.append(tuple([x[1] for x in zip(pattern,tasks) if x[0]]))\n",
    "        l2.append(tuple([x[1] for x in zip(pattern,tasks) if not x[0]]))\n",
    "\n",
    "    return list(zip(l1,l2))"
   ]
  },
  {
   "cell_type": "code",
   "execution_count": 11,
   "metadata": {},
   "outputs": [
    {
     "output_type": "stream",
     "name": "stdout",
     "text": [
      "[((1, 2, 3), ()), ((1, 2), (3,)), ((1, 3), (2,)), ((1,), (2, 3)), ((2, 3), (1,)), ((2,), (1, 3)), ((3,), (1, 2)), ((), (1, 2, 3))]\n"
     ]
    }
   ],
   "source": [
    "# Test partition\n",
    "tasks = [1,2,3]\n",
    "res = partition(tasks)\n",
    "print(res)"
   ]
  },
  {
   "cell_type": "code",
   "execution_count": 86,
   "metadata": {},
   "outputs": [],
   "source": [
    "def non_dominated_po(partitions):\n",
    "    \"\"\"\n",
    "    Étant donné un dictionnaire de partitions qui nous permet de connaître la valeur de chaque partition, on fait le traitement des partitions de manière à enlèver celles qui sont Pareto-dominées.\n",
    "    \"\"\"\n",
    "    # List of pareto-optimal points\n",
    "    po = []\n",
    "    for part, ut in partitions_utility.items():\n",
    "        dominated = False\n",
    "        # We add the task only if it is not dominated\n",
    "        for other_part, other_ut in partitions_utility.items():\n",
    "            if other_ut[0] > ut[0] and other_ut[1] > ut[1] and other_part != part:\n",
    "                dominated = True\n",
    "                continue\n",
    "        if not dominated:\n",
    "            po.append(part)\n",
    "        \n",
    "    return po"
   ]
  },
  {
   "cell_type": "code",
   "execution_count": 90,
   "metadata": {},
   "outputs": [],
   "source": [
    "partitions_utility = {((1, 2, 3), ()) : (11,3), ((1, 2), (3,)): (2,3), ((1, 3), (2,)): (2,4), ((1,), (2, 3)): (4,5), ((2, 3), (1,)): (30,6), ((2,), (1, 3)): (6,7), ((3,), (1, 2)): (7,10), ((), (1, 2, 3)): (8,9)}\n",
    "# expected Pareto-opt : (8,9), (7,10), (30, 6)"
   ]
  },
  {
   "cell_type": "code",
   "execution_count": 91,
   "metadata": {},
   "outputs": [
    {
     "output_type": "execute_result",
     "data": {
      "text/plain": [
       "[((2, 3), (1,)), ((3,), (1, 2)), ((), (1, 2, 3))]"
      ]
     },
     "metadata": {},
     "execution_count": 91
    }
   ],
   "source": [
    "# Test pareto optimality function\n",
    "non_dominated_po(partitions_utility)"
   ]
  },
  {
   "cell_type": "code",
   "execution_count": null,
   "metadata": {},
   "outputs": [],
   "source": []
  },
  {
   "cell_type": "code",
   "execution_count": null,
   "metadata": {},
   "outputs": [],
   "source": []
  }
 ]
}