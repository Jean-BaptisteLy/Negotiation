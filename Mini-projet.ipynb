{
 "cells": [
  {
   "cell_type": "code",
   "execution_count": 3,
   "metadata": {},
   "outputs": [],
   "source": [
    "import matplotlib.pyplot as plt\n",
    "import itertools as it\n",
    "import sys\n",
    "sys.path.append('../')\n",
    "import src\n",
    "from src import environment as env\n",
    "from src import resolution as res\n",
    "%reload_ext autoreload\n",
    "%autoreload 2\n",
    "from IPython.display import Image"
   ]
  },
  {
   "cell_type": "code",
   "execution_count": 2,
   "metadata": {},
   "outputs": [],
   "source": [
    "from graphviz import Digraph\n",
    "# Create Digraph object\n",
    "dot = Digraph()"
   ]
  },
  {
   "cell_type": "code",
   "execution_count": null,
   "metadata": {},
   "outputs": [],
   "source": []
  },
  {
   "cell_type": "code",
   "execution_count": 2,
   "metadata": {},
   "outputs": [
    {
     "data": {
      "image/png": "[encoded data removed]",
      "text/plain": [
       "<Figure size 432x432 with 1 Axes>"
      ]
     },
     "metadata": {
      "needs_background": "light"
     },
     "output_type": "display_data"
    }
   ],
   "source": [
    "from matplotlib import pyplot as plt\n",
    "from matplotlib import colors\n",
    "data = [[0,0,0,0,0,1,1,1,1,0],\n",
    "[0,0,0,0,0,1,0,0,1,0],\n",
    "[0,0,1,0,1,0,1,1,0,0],\n",
    "[0,0,1,0,0,1,1,0,1,0],\n",
    "[0,0,1,0,1,0,0,1,1,0],\n",
    "[1,0,0,1,0,1,0,0,1,0],\n",
    "[0,1,0,0,0,1,1,1,1,1],\n",
    "[0,1,0,0,0,0,1,1,1,1],\n",
    "[1,0,0,0,1,1,1,0,1,0],\n",
    "[1,1,1,1,0,0,0,1,1,0]]\n",
    "cmap = colors.ListedColormap(['Blue','red'])\n",
    "plt.figure(figsize=(6,6))\n",
    "plt.pcolor(data[::-1],cmap=cmap,edgecolors='k', linewidths=3)\n",
    "plt.show()"
   ]
  },
  {
   "cell_type": "code",
   "execution_count": 2,
   "metadata": {},
   "outputs": [
    {
     "name": "stdout",
     "output_type": "stream",
     "text": [
      "[None, None, None]\n"
     ]
    }
   ],
   "source": [
    "toto = []\n",
    "for i in range(3):\n",
    "    toto.append(None)\n",
    "print(toto)"
   ]
  },
  {
   "cell_type": "code",
   "execution_count": 63,
   "metadata": {},
   "outputs": [],
   "source": [
    "hanna = env.World(10)\n",
    "agents = hanna.create_agents([(3,8),(6,5),(9,3)])\n",
    "objects = hanna.create_objects([(3,6),(6,8),(5,6),(6,4),(8,3),(9,5)])\n",
    "d = 4\n",
    "greaterValue = 2\n",
    "#print(agents)\n",
    "#print(objects)\n",
    "\n",
    "#Z,agents_visible_objects = res.perception(agents,objects,d)\n",
    "\n",
    "agents_visible_objects = res.perception(agents,objects,d)\n",
    "Z = res.set_Z(agents_visible_objects)\n",
    "min_path = res.tour((3,8),[(5, 6), (6, 8), (3, 6)])\n",
    "#min_path = res.tour((6,5),[(5, 6), (6, 8), (3, 6)])\n",
    "#min_path = res.tour((6,5),[(6, 4), (8, 3), (9, 5)])\n",
    "#min_path = res.tour((9,3),[(6, 4), (8, 3), (9, 5)])\n",
    "max_path = res.biggestTour(Z,agents)\n",
    "\n",
    "#print(agents)\n",
    "#print(agents_visible_objects)\n",
    "#print(Z)\n",
    "#print(min_path)\n",
    "#print(max_path)\n",
    "res.negotiation(agents,objects,d,greaterValue)"
   ]
  },
  {
   "cell_type": "code",
   "execution_count": 67,
   "metadata": {},
   "outputs": [
    {
     "name": "stdout",
     "output_type": "stream",
     "text": [
      "agents_visible_objects : {1: [(3, 6), (6, 8), (5, 6)], 2: [(3, 6), (6, 8), (5, 6), (6, 4), (8, 3), (9, 5)], 3: [(6, 4), (8, 3), (9, 5)]}\n",
      "Z : {(1, 2): [(5, 6), (6, 8), (3, 6)], (2, 3): [(6, 4), (8, 3), (9, 5)]}\n",
      "biggestTour : <function biggestTour at 0x0000029C7067E828>\n",
      "greaterValue : 10\n"
     ]
    }
   ],
   "source": [
    "hanna = env.World(10)\n",
    "agents = hanna.create_agents([(3,8),(6,5),(9,3)])\n",
    "objects = hanna.create_objects([(3,6),(6,8),(5,6),(6,4),(8,3),(9,5)])\n",
    "d = 4\n",
    "greaterValue = 2\n",
    "res.negotiation(agents,objects,d,greaterValue)"
   ]
  },
  {
   "cell_type": "code",
   "execution_count": 18,
   "metadata": {},
   "outputs": [
    {
     "name": "stdout",
     "output_type": "stream",
     "text": [
      " bc\n"
     ]
    }
   ],
   "source": [
    "print('a', 'b', 'c', sep='')"
   ]
  },
  {
   "cell_type": "code",
   "execution_count": 16,
   "metadata": {},
   "outputs": [
    {
     "name": "stdout",
     "output_type": "stream",
     "text": [
      "."
     ]
    }
   ],
   "source": [
    "print('.', end='', flush=True)"
   ]
  },
  {
   "cell_type": "code",
   "execution_count": 19,
   "metadata": {},
   "outputs": [
    {
     "name": "stdout",
     "output_type": "stream",
     "text": [
      "a\n",
      "b\n"
     ]
    }
   ],
   "source": [
    "print('a', sep='')\n",
    "print('b', sep='')"
   ]
  },
  {
   "cell_type": "code",
   "execution_count": 24,
   "metadata": {},
   "outputs": [
    {
     "name": "stdout",
     "output_type": "stream",
     "text": [
      "o\n",
      "-\n",
      "-\n",
      "-\n",
      "-\n",
      "\n",
      "-\n",
      "-\n",
      "-\n",
      "-\n",
      "-\n",
      "\n",
      "-\n",
      "-\n",
      "-\n",
      "-\n",
      "-\n",
      "\n"
     ]
    }
   ],
   "source": [
    "def grid_maker(h, w):\n",
    "    grid = [[\"-\" for i in range(w)] for i in range(h)]\n",
    "    grid[0][0] = \"o\"\n",
    "    return grid\n",
    "\n",
    "def print_grid(grid):\n",
    "    for row in grid:\n",
    "        for e in row:\n",
    "            print (e,)\n",
    "        print()\n",
    "        \n",
    "print_grid(grid_maker(3, 5))"
   ]
  },
  {
   "cell_type": "code",
   "execution_count": 27,
   "metadata": {},
   "outputs": [
    {
     "name": "stderr",
     "output_type": "stream",
     "text": [
      "No handles with labels found to put in legend.\n"
     ]
    },
    {
     "name": "stdout",
     "output_type": "stream",
     "text": [
      "x : [6.29453016e-01 2.47770324e-01 4.74942912e-01 5.76847753e-01\n",
      " 5.29676971e-01 5.24073005e-01 7.41717045e-01 2.01606914e-01\n",
      " 4.71974879e-01 8.35006148e-01 1.64732320e-01 5.93454280e-01\n",
      " 6.09633813e-01 1.27018127e-01 2.82379242e-01 5.79297066e-01\n",
      " 6.54973258e-01 6.74695196e-01 5.10630710e-01 5.22009428e-01\n",
      " 9.33762223e-01 6.15432980e-01 9.43286115e-01 8.11709869e-01\n",
      " 5.09319434e-01 6.98032918e-01 9.44958015e-01 9.91943697e-01\n",
      " 4.73798005e-01 3.90858564e-01 8.00797509e-01 6.03010465e-01\n",
      " 2.00790826e-01 6.14592204e-02 3.89380790e-01 8.14152428e-01\n",
      " 4.92020349e-01 7.00842075e-01 1.83667092e-01 8.60939281e-01\n",
      " 1.37858007e-01 4.49718193e-02 2.32727086e-01 9.01356875e-01\n",
      " 7.33184053e-01 5.85034144e-01 4.68778739e-01 2.71230929e-01\n",
      " 4.39780440e-01 8.01023188e-01 2.54991156e-01 3.96493016e-01\n",
      " 6.66039038e-01 1.06256136e-01 5.70420805e-01 9.34256642e-01\n",
      " 4.07175232e-01 9.22882674e-02 5.42459321e-01 5.44573924e-01\n",
      " 8.30698072e-01 2.18516692e-01 1.86539732e-01 9.14029181e-01\n",
      " 2.82686725e-01 4.28742102e-01 6.17321349e-01 7.83506430e-02\n",
      " 1.91086308e-01 4.99621544e-01 1.77086066e-01 3.52079299e-02\n",
      " 5.58473235e-01 6.67145632e-01 3.89247024e-01 9.78814618e-01\n",
      " 2.87032094e-01 9.36342389e-01 2.40822380e-01 2.79828055e-01\n",
      " 6.35375384e-01 7.80079448e-01 2.91220216e-04 8.53108159e-01\n",
      " 1.83388595e-01 2.27269020e-01 6.38653101e-01 1.21891196e-01\n",
      " 2.00979172e-01 1.21195926e-01 9.50690551e-01 2.60016856e-01\n",
      " 9.97957769e-01 5.79936510e-01 8.63753255e-01 6.95885919e-01\n",
      " 5.33098761e-01 5.37084711e-01 2.44966246e-01 6.86858058e-01]\n",
      "y : [0.0019015800367770674, -0.5245687722143786, 0.33525252128475275, 0.09496048622235403, 0.20950306841334027, 0.22395205690112951, -0.06124788599873061, -0.21868005134596166, 0.3399491591621243, -0.03196612601622801, -0.30652437455614767, 0.060866542500044224, 0.0317652648792463, -0.41031690578888835, -0.6184607314941168, 0.08967719769455074, -0.027288911697680954, -0.04313386263659805, 0.258157484936491, 0.22926085017447811, 0.01692000291932892, 0.022364499673484334, 0.02174798441788697, -0.0423504831783903, 0.26142237531475365, -0.05510334132843778, 0.022601072479252787, 0.04807962359774002, 0.33710771223108144, 0.2191151921922036, -0.04675281010689536, 0.04317068458398177, -0.2166067890532388, -0.500718445850466, 0.21068728270626857, -0.041318323797739274, 0.30214635673523516, -0.05609318077422665, -0.22061527183425497, -0.019460736054004512, -0.41092410510185834, -0.3830490792263476, -0.41073689544211045, 0.0006784373754620817, -0.06145974085647064, 0.07764009696626575, 0.34457877102576523, -0.6224605842235413, 0.3601004472350273, -0.046665546468637464, -0.5682685830534125, 0.24887201635937412, -0.03686402301063918, -0.38666155657807133, 0.10921609760373191, 0.017169538492324055, 0.2950233729701913, -0.41282096697792003, 0.17674165365950556, 0.17139269915970784, -0.03396560598283781, -0.3023043574138013, -0.21381765770996108, 0.00701575215241717, -0.6178664138457681, 0.3496852411094562, 0.019421747621997748, -0.475602747198219, -0.2078933126669718, 0.28488967586209607, -0.24392735046238812, -0.2936074613853187, 0.13710130560306238, -0.0377240762217967, 0.20991163643066457, 0.040550530411859284, -0.6067812891967426, 0.01822338929848821, -0.47452661984701255, -0.6224030369077751, -0.005786475268107882, -0.05393356726633507, -0.6136871925666515, -0.02330151047702639, -0.2213921399846804, -0.36725172357691094, -0.009800465492546567, -0.40363258550552245, -0.21706718011876697, -0.4025787524071767, 0.02554233337109735, -0.5921602981614855, 0.051688374869066786, 0.08831189831937161, -0.018071724193701073, -0.0542846447799451, 0.20068510361405517, 0.19044656054416426, -0.5051427702306224, -0.05023270529805306]\n"
     ]
    },
    {
     "data": {
      "image/png": "[encoded data removed]",
      "text/plain": [
       "<Figure size 432x288 with 1 Axes>"
      ]
     },
     "metadata": {
      "needs_background": "light"
     },
     "output_type": "display_data"
    }
   ],
   "source": [
    "import math\n",
    "import numpy as np\n",
    "\n",
    "def kindergarten(x):\n",
    "    fx = np.sin(30 * (x - 0.9)**4) * np.cos(2 * (x - 0.9)) + ((x - 0.9) / 2)\n",
    "    return fx\n",
    "\n",
    "def plot_kindergarten(nombre_points):\n",
    "    # x est un array de floats entre 0 et 1\n",
    "    x = np.random.random_sample((nombre_points,))\n",
    "    \n",
    "    # y est une liste de compute kindergarten de x\n",
    "    y = []\n",
    "    for i in x:\n",
    "        y.append(kindergarten(i))\n",
    "    \n",
    "    # je printe ici\n",
    "    print(\"x :\",x)\n",
    "    print(\"y :\",y)\n",
    "    \n",
    "    titre = \"Hanna\"\n",
    "    plt.title(titre)\n",
    "    plt.xlabel(\"Hanna x\")\n",
    "    plt.ylabel(\"Hanna y\")\n",
    "    plt.scatter(x,y)\n",
    "    plt.legend()\n",
    "    plt.grid()\n",
    "    #plt.savefig(\"hanna.png\")\n",
    "    plt.show()\n",
    "\n",
    "nombre_points = 100    \n",
    "plot_kindergarten(nombre_points)"
   ]
  },
  {
   "cell_type": "code",
   "execution_count": 1,
   "metadata": {},
   "outputs": [
    {
     "name": "stdout",
     "output_type": "stream",
     "text": [
      "80\n"
     ]
    }
   ],
   "source": [
    "# Python3 program to implement traveling salesman \n",
    "# problem using naive approach. \n",
    "from sys import maxsize \n",
    "from itertools import permutations\n",
    "V = 4\n",
    " \n",
    "# implementation of traveling Salesman Problem \n",
    "def travellingSalesmanProblem(graph, s): \n",
    " \n",
    "    # store all vertex apart from source vertex \n",
    "    vertex = [] \n",
    "    for i in range(V): \n",
    "        if i != s: \n",
    "            vertex.append(i) \n",
    " \n",
    "    # store minimum weight Hamiltonian Cycle \n",
    "    min_path = maxsize \n",
    "    next_permutation=permutations(vertex)\n",
    "    for i in next_permutation:\n",
    " \n",
    "        # store current Path weight(cost) \n",
    "        current_pathweight = 0\n",
    " \n",
    "        # compute current path weight \n",
    "        k = s \n",
    "        for j in i: \n",
    "            current_pathweight += graph[k][j] \n",
    "            k = j \n",
    "        current_pathweight += graph[k][s] \n",
    " \n",
    "        # update minimum \n",
    "        min_path = min(min_path, current_pathweight) \n",
    "         \n",
    "    return min_path \n",
    " \n",
    " \n",
    "# Driver Code \n",
    "if __name__ == \"__main__\": \n",
    " \n",
    "    # matrix representation of graph \n",
    "    graph = [[0, 10, 15, 20], [10, 0, 35, 25], \n",
    "            [15, 35, 0, 30], [20, 25, 30, 0]] \n",
    "    s = 0\n",
    "    print(travellingSalesmanProblem(graph, s))"
   ]
  },
  {
   "cell_type": "code",
   "execution_count": 2,
   "metadata": {},
   "outputs": [
    {
     "name": "stdout",
     "output_type": "stream",
     "text": [
      "[('D', 'F', 'I'), ('D', 'F', 'J'), ('D', 'G', 'I'), ('D', 'G', 'J'), ('D', 'H', 'I'), ('D', 'H', 'J'), ('E', 'F', 'I'), ('E', 'F', 'J'), ('E', 'G', 'I'), ('E', 'G', 'J'), ('E', 'H', 'I'), ('E', 'H', 'J')]\n"
     ]
    }
   ],
   "source": [
    "import itertools as it\n",
    "\n",
    "my_dict={'A':['D','E'],'B':['F','G','H'],'C':['I','J']}\n",
    "allNames = sorted(my_dict)\n",
    "combinations = it.product(*(my_dict[Name] for Name in allNames))\n",
    "print(list(combinations))"
   ]
  },
  {
   "cell_type": "code",
   "execution_count": 31,
   "metadata": {},
   "outputs": [
    {
     "name": "stdout",
     "output_type": "stream",
     "text": [
      "[((3, 6), (6, 8), (5, 6)), ((3, 6), (5, 6), (6, 8)), ((6, 8), (3, 6), (5, 6)), ((6, 8), (5, 6), (3, 6)), ((5, 6), (3, 6), (6, 8)), ((5, 6), (6, 8), (3, 6))]\n",
      "((3, 6), (6, 8), (5, 6))\n",
      "((3, 6), (5, 6), (6, 8))\n",
      "((6, 8), (3, 6), (5, 6))\n",
      "((6, 8), (5, 6), (3, 6))\n",
      "((5, 6), (3, 6), (6, 8))\n",
      "((5, 6), (6, 8), (3, 6))\n"
     ]
    },
    {
     "data": {
      "text/plain": [
       "5"
      ]
     },
     "execution_count": 31,
     "metadata": {},
     "output_type": "execute_result"
    }
   ],
   "source": [
    "res.tour((3,8),[(3, 6), (6, 8), (5, 6)])\n",
    "#res.tour((3,8),[1,2,3])"
   ]
  },
  {
   "cell_type": "code",
   "execution_count": 24,
   "metadata": {},
   "outputs": [
    {
     "name": "stdout",
     "output_type": "stream",
     "text": [
      "[((3, 6), (6, 8)), ((3, 6), (5, 6)), ((6, 8), (3, 6)), ((6, 8), (5, 6)), ((5, 6), (3, 6)), ((5, 6), (6, 8))]\n"
     ]
    }
   ],
   "source": [
    "objects = [(3, 6), (6, 8), (5, 6)]\n",
    "fdp = len(objects)\n",
    "# Function which returns subset or r length from n \n",
    "from itertools import combinations\n",
    "from itertools import permutations\n",
    "  \n",
    "def rSubset(arr, r): \n",
    "  \n",
    "    # return list of all subsets of length r \n",
    "    # to deal with duplicate subsets use  \n",
    "    # set(list(combinations(arr, r))) \n",
    "    return list(permutations(arr, r)) \n",
    "  \n",
    "# Driver Function \n",
    "if __name__ == \"__main__\": \n",
    "    arr = objects\n",
    "    arr = [(3, 6), (6, 8), (5, 6)]\n",
    "    r = 2\n",
    "    print (rSubset(arr, r)) "
   ]
  },
  {
   "cell_type": "code",
   "execution_count": 18,
   "metadata": {},
   "outputs": [
    {
     "data": {
      "text/plain": [
       "[(1, 2), (1, 3), (1, 4), (2, 3), (2, 4), (3, 4)]"
      ]
     },
     "execution_count": 18,
     "metadata": {},
     "output_type": "execute_result"
    }
   ],
   "source": [
    "res.rSubset()"
   ]
  },
  {
   "cell_type": "code",
   "execution_count": null,
   "metadata": {},
   "outputs": [],
   "source": [
    "res.negotiation(agents,objects,d,greaterValue)"
   ]
  }
 ],
 "metadata": {
  "kernelspec": {
   "display_name": "Python 3",
   "language": "python",
   "name": "python3"
  },
  "language_info": {
   "codemirror_mode": {
    "name": "ipython",
    "version": 3
   },
   "file_extension": ".py",
   "mimetype": "text/x-python",
   "name": "python",
   "nbconvert_exporter": "python",
   "pygments_lexer": "ipython3",
   "version": "3.7.9"
  }
 },
 "nbformat": 4,
 "nbformat_minor": 4
}
