{
 "cells": [
  {
   "cell_type": "markdown",
   "metadata": {},
   "source": [
    "# Mini-projet : Monotonic Concession Protocol"
   ]
  },
  {
   "cell_type": "markdown",
   "metadata": {},
   "source": [
    "LY Jean-Baptiste - OSUNA Pamela"
   ]
  },
  {
   "cell_type": "markdown",
   "metadata": {},
   "source": [
    "## Monotonic Concession Protocols for Bilateral Negotiation"
   ]
  },
  {
   "cell_type": "code",
   "execution_count": 1,
   "metadata": {},
   "outputs": [],
   "source": [
    "import matplotlib.pyplot as plt\n",
    "import itertools as it\n",
    "import sys\n",
    "sys.path.append('../')\n",
    "import src\n",
    "from src import environment as env\n",
    "from src import resolution as res\n",
    "from graphviz import Digraph\n",
    "%reload_ext autoreload\n",
    "%autoreload 2\n",
    "from IPython.display import Image"
   ]
  },
  {
   "cell_type": "markdown",
   "metadata": {},
   "source": [
    "Autres idées :\n",
    "\n",
    "donner un fichier csv pour la map ?"
   ]
  },
  {
   "cell_type": "code",
   "execution_count": 2,
   "metadata": {},
   "outputs": [
    {
     "data": {
      "image/png": "[encoded data removed]",
      "text/plain": [
       "<Figure size 432x432 with 1 Axes>"
      ]
     },
     "metadata": {
      "needs_background": "light"
     },
     "output_type": "display_data"
    }
   ],
   "source": [
    "line = env.World(10)\n",
    "agents_line = line.create_agents([(3,8),(6,5),(9,3)])\n",
    "objects_line = line.create_objects([(3,6),(6,8),(5,6),(6,4),(8,3),(9,5)])\n",
    "greaterValue_line = 2\n",
    "line.display_grid()"
   ]
  },
  {
   "cell_type": "code",
   "execution_count": 3,
   "metadata": {},
   "outputs": [
    {
     "name": "stdout",
     "output_type": "stream",
     "text": [
      "Caractéristiques du problème :\n",
      "\n",
      "Agents : {1: (3, 8), 2: (6, 5), 3: (9, 3)}\n",
      "Objets : {1: (3, 6), 2: (6, 8), 3: (5, 6), 4: (6, 4), 5: (8, 3), 6: (9, 5)}\n",
      "Distance de perception des agents : 4\n",
      "Objets visibles par les agents : {1: [(3, 6), (6, 8), (5, 6)], 2: [(3, 6), (6, 8), (5, 6), (6, 4), (8, 3), (9, 5)], 3: [(6, 4), (8, 3), (9, 5)]}\n",
      "Ensembles Z : {(1, 2): [(5, 6), (6, 8), (3, 6)], (2, 3): [(6, 4), (8, 3), (9, 5)]}\n",
      "Coût de la plus grande tournée : 8\n",
      "Valeur supplémantaire ajoutée à : 2\n",
      "Valeur plus grande que le coût de la plus grande tournée possible : 10\n",
      "\n",
      "-----------------------------------------------------------------------\n",
      "Négociation par Monotonic Concession Protocol entre les agents 1 et 2 :\n",
      "-----------------------------------------------------------------------\n",
      "Point de conflit : [3, 2]\n",
      "Allocation avec bargaining :\n",
      "{((3, 2, 1), ()): (3, 10), ((3, 1), (2,)): (6, 7), ((2,), (3, 1)): (7, 6), ((1,), (3, 2)): (8, 5), ((), (3, 2, 1)): (10, 2)}\n",
      "Round 1 :\n",
      "L'agent 1 et l'agent 2 concèdent.\n",
      "Round 2 :\n",
      "L'agent 1 et l'agent 2 concèdent.\n",
      "Round 3 :\n",
      "L'agent 1 et l'agent 2 concèdent.\n",
      "u1a2 >= u1a1 and u2a1 >= u2a2\n",
      "flip a coin because both agents agree\n",
      "agreement : [((2,), (3, 1)), 7, 6]\n",
      "nash_products : 16\n",
      "-------------------------------------------------------------------------------------------------------\n",
      "Négociation entre les agents 1 et 2 :\n",
      "round \t\toffer_a1 \t\toffer_a2 \t\tu1a1,u1a2 \tu2a1,u2a2   z1  z2\n",
      "1\t\t((), (3, 2, 1))\t\t((3, 2, 1), ())\t\t(10, 3)\t\t(2, 10)  1.0  1.0\n",
      "2\t\t((1,), (3, 2))\t\t((3, 1), (2,))\t\t(8, 6)\t\t(5, 7)  0.4  0.4\n",
      "3\t\t((2,), (3, 1))\t\t((2,), (3, 1))\t\t(7, 7)\t\t(6, 6)  0.0  0.0\n",
      "-------------------------------------------------------------------------------------------------------\n",
      "\n",
      "\n",
      "-----------------------------------------------------------------------\n",
      "Négociation par Monotonic Concession Protocol entre les agents 2 et 3 :\n",
      "-----------------------------------------------------------------------\n",
      "Point de conflit : [6, 2]\n",
      "Allocation avec bargaining :\n",
      "{((4, 5, 6), ()): (3, 10), ((4, 5), (6,)): (6, 8), ((4, 6), (5,)): (5, 9), ((4,), (5, 6)): (9, 6), ((), (4, 5, 6)): (10, 2)}\n",
      "Round 1 :\n",
      "L'agent 3 concède.\n",
      "Round 2 :\n",
      "Agent 3 : Mauvaise concession ! Je ne concède pas ((4, 6), (5,)) !\n",
      "Round 2 :\n",
      "L'agent 2 et l'agent 3 concèdent.\n",
      "Round 3 :\n",
      "L'agent 3 concède.\n",
      "Round 4 :\n",
      "L'agent 2 et l'agent 3 concèdent.\n",
      "u1a2 >= u1a1 and u2a1 >= u2a2\n",
      "flip a coin because both agents agree\n",
      "agreement : [((4,), (5, 6)), 9, 6]\n",
      "nash_products : 12\n",
      "-------------------------------------------------------------------------------------------------------\n",
      "Négociation entre les agents 2 et 3 :\n",
      "round \t\toffer_a2 \t\toffer_a3 \t\tu2a2,u2a3 \tu3a2,u3a3   z2  z3\n",
      "1\t\t((), (4, 5, 6))\t\t((4, 5, 6), ())\t\t(10, 3)\t\t(2, 10)  1.75  1.0\n",
      "2\t\t((), (4, 5, 6))\t\t((4, 5), (6,))\t\t(10, 6)\t\t(2, 8)  1.0  1.0\n",
      "3\t\t((4,), (5, 6))\t\t((4, 6), (5,))\t\t(9, 5)\t\t(6, 9)  1.3333333333333333  0.42857142857142855\n",
      "4\t\t((4,), (5, 6))\t\t((4,), (5, 6))\t\t(9, 9)\t\t(6, 6)  0.0  0.0\n",
      "-------------------------------------------------------------------------------------------------------\n",
      "\n",
      "\n",
      "Balanced outcome. End.\n"
     ]
    }
   ],
   "source": [
    "d_line = 4\n",
    "res.negotiation(line,d_line,greaterValue_line)"
   ]
  },
  {
   "cell_type": "code",
   "execution_count": 4,
   "metadata": {},
   "outputs": [
    {
     "name": "stdout",
     "output_type": "stream",
     "text": [
      "Caractéristiques du problème :\n",
      "\n",
      "Agents : {1: (3, 8), 2: (6, 5), 3: (9, 3)}\n",
      "Objets : {1: (3, 6), 2: (6, 8), 3: (5, 6), 4: (6, 4), 5: (8, 3), 6: (9, 5)}\n",
      "Distance de perception des agents : 100\n",
      "Objets visibles par les agents : {1: [(3, 6), (6, 8), (5, 6), (6, 4), (8, 3), (9, 5)], 2: [(3, 6), (6, 8), (5, 6), (6, 4), (8, 3), (9, 5)], 3: [(3, 6), (6, 8), (5, 6), (6, 4), (8, 3), (9, 5)]}\n",
      "Ensembles Z : {(1, 2): [(6, 4), (8, 3), (6, 8), (5, 6), (3, 6), (9, 5)], (1, 3): [(6, 4), (8, 3), (6, 8), (5, 6), (3, 6), (9, 5)], (2, 3): [(6, 4), (8, 3), (6, 8), (5, 6), (3, 6), (9, 5)]}\n",
      "Coût de la plus grande tournée : 18\n",
      "Valeur supplémantaire ajoutée à : 2\n",
      "Valeur plus grande que le coût de la plus grande tournée possible : 20\n",
      "\n",
      "-----------------------------------------------------------------------\n",
      "Négociation par Monotonic Concession Protocol entre les agents 1 et 2 :\n",
      "-----------------------------------------------------------------------\n",
      "Point de conflit : [3, 2]\n",
      "Allocation avec bargaining :\n",
      "{((4, 5, 2, 3, 1, 6), ()): (3, 20), ((4, 5, 3, 1, 6), (2,)): (7, 17), ((4, 2, 3, 1), (5, 6)): (9, 14), ((5, 2, 3, 1, 6), (4,)): (4, 19), ((5, 3, 1, 6), (4, 2)): (8, 15), ((2, 3, 1), (4, 5, 6)): (13, 13), ((2,), (4, 5, 3, 1, 6)): (17, 6), ((3, 1), (4, 5, 2, 6)): (16, 7), ((1,), (4, 5, 2, 3, 6)): (18, 5), ((), (4, 5, 2, 3, 1, 6)): (20, 2)}\n",
      "Round 1 :\n",
      "L'agent 1 et l'agent 2 concèdent.\n",
      "Round 2 :\n",
      "L'agent 2 concède.\n",
      "Round 3 :\n",
      "L'agent 1 concède.\n",
      "Round 4 :\n",
      "Agent 1 : Mauvaise concession ! Je ne concède pas ((2,), (4, 5, 3, 1, 6)) !\n",
      "Round 4 :\n",
      "L'agent 2 concède.\n",
      "Round 5 :\n",
      "L'agent 1 concède.\n",
      "Round 6 :\n",
      "L'agent 1 et l'agent 2 concèdent.\n",
      "Round 7 :\n",
      "L'agent 2 concède.\n",
      "Round 8 :\n",
      "L'agent 1 et l'agent 2 concèdent.\n",
      "u1a2 >= u1a1 and u2a1 >= u2a2\n",
      "flip a coin because both agents agree\n",
      "agreement : [((2, 3, 1), (4, 5, 6)), 13, 13]\n",
      "nash_products : 110\n",
      "-------------------------------------------------------------------------------------------------------\n",
      "Négociation entre les agents 1 et 2 :\n",
      "round \t\toffer_a1 \t\toffer_a2 \t\tu1a1,u1a2 \tu2a1,u2a2   z1  z2\n",
      "1\t\t((), (4, 5, 2, 3, 1, 6))\t\t((4, 5, 2, 3, 1, 6), ())\t\t(20, 3)\t\t(2, 20)  1.0  1.0\n",
      "2\t\t((1,), (4, 5, 2, 3, 6))\t\t((5, 2, 3, 1, 6), (4,))\t\t(18, 4)\t\t(5, 19)  0.9333333333333333  0.8235294117647058\n",
      "3\t\t((1,), (4, 5, 2, 3, 6))\t\t((4, 5, 3, 1, 6), (2,))\t\t(18, 7)\t\t(5, 17)  0.7333333333333333  0.8\n",
      "4\t\t((3, 1), (4, 5, 2, 6))\t\t((4, 5, 3, 1, 6), (2,))\t\t(16, 7)\t\t(7, 17)  0.6923076923076923  0.6666666666666666\n",
      "5\t\t((2,), (4, 5, 3, 1, 6))\t\t((5, 3, 1, 6), (4, 2))\t\t(17, 8)\t\t(6, 15)  0.6428571428571429  0.6923076923076923\n",
      "6\t\t((3, 1), (4, 5, 2, 6))\t\t((5, 3, 1, 6), (4, 2))\t\t(16, 8)\t\t(7, 15)  0.6153846153846154  0.6153846153846154\n",
      "7\t\t((2, 3, 1), (4, 5, 6))\t\t((4, 2, 3, 1), (5, 6))\t\t(13, 9)\t\t(13, 14)  0.4  0.08333333333333333\n",
      "8\t\t((2, 3, 1), (4, 5, 6))\t\t((2, 3, 1), (4, 5, 6))\t\t(13, 13)\t\t(13, 13)  0.0  0.0\n",
      "-------------------------------------------------------------------------------------------------------\n",
      "\n",
      "\n",
      "-----------------------------------------------------------------------\n",
      "Négociation par Monotonic Concession Protocol entre les agents 1 et 3 :\n",
      "-----------------------------------------------------------------------\n",
      "Point de conflit : [13, 3]\n",
      "Allocation avec bargaining :\n",
      "{((4, 5, 2, 3, 1, 6), ()): (3, 20), ((4, 5, 2, 3, 1), (6,)): (6, 18), ((4, 2, 3, 1, 6), (5,)): (5, 19), ((4, 2, 3, 1), (5, 6)): (9, 16), ((2, 3, 1), (4, 5, 6)): (13, 12), ((2,), (4, 5, 3, 1, 6)): (17, 7), ((3, 1), (4, 5, 2, 6)): (16, 8), ((1,), (4, 5, 2, 3, 6)): (18, 6), ((), (4, 5, 2, 3, 1, 6)): (20, 3)}\n",
      "Round 1 :\n",
      "L'agent 3 concède.\n",
      "Round 2 :\n",
      "Agent 3 : Mauvaise concession ! Je ne concède pas ((4, 2, 3, 1, 6), (5,)) !\n",
      "Round 2 :\n",
      "Agent 3 : Mauvaise concession ! Je ne concède pas ((4, 5, 2, 3, 1), (6,)) !\n",
      "Round 2 :\n",
      "Agent 3 : Mauvaise concession ! Je ne concède pas ((4, 2, 3, 1), (5, 6)) !\n",
      "Round 2 :\n",
      "L'agent 1 et l'agent 3 concèdent.\n",
      "Round 3 :\n",
      "L'agent 3 concède.\n",
      "Round 4 :\n",
      "Agent 3 : Mauvaise concession ! Je ne concède pas ((4, 5, 2, 3, 1), (6,)) !\n",
      "Round 4 :\n",
      "Agent 3 : Mauvaise concession ! Je ne concède pas ((4, 2, 3, 1), (5, 6)) !\n",
      "Round 4 :\n",
      "L'agent 1 et l'agent 3 concèdent.\n",
      "Round 5 :\n",
      "L'agent 3 concède.\n",
      "Round 6 :\n",
      "Agent 3 : Mauvaise concession ! Je ne concède pas ((4, 2, 3, 1), (5, 6)) !\n",
      "Round 6 :\n",
      "L'agent 1 et l'agent 3 concèdent.\n",
      "u1a2 >= u1a1 and u2a1 >= u2a2\n",
      "flip a coin because both agents agree\n",
      "agreement : [((2,), (4, 5, 3, 1, 6)), 17, 7]\n",
      "nash_products : 16\n",
      "-------------------------------------------------------------------------------------------------------\n",
      "Négociation entre les agents 1 et 3 :\n",
      "round \t\toffer_a1 \t\toffer_a3 \t\tu1a1,u1a3 \tu3a1,u3a3   z1  z3\n",
      "1\t\t((), (4, 5, 2, 3, 1, 6))\t\t((4, 5, 2, 3, 1, 6), ())\t\t(20, 3)\t\t(3, 20)  2.4285714285714284  1.0\n",
      "2\t\t((), (4, 5, 2, 3, 1, 6))\t\t((2, 3, 1), (4, 5, 6))\t\t(20, 13)\t\t(3, 12)  1.0  1.0\n",
      "3\t\t((1,), (4, 5, 2, 3, 6))\t\t((4, 2, 3, 1, 6), (5,))\t\t(18, 5)\t\t(6, 19)  2.6  0.8125\n",
      "4\t\t((1,), (4, 5, 2, 3, 6))\t\t((3, 1), (4, 5, 2, 6))\t\t(18, 16)\t\t(6, 8)  0.4  0.4\n",
      "5\t\t((2,), (4, 5, 3, 1, 6))\t\t((4, 5, 2, 3, 1), (6,))\t\t(17, 6)\t\t(7, 18)  2.75  0.7333333333333333\n",
      "6\t\t((2,), (4, 5, 3, 1, 6))\t\t((2,), (4, 5, 3, 1, 6))\t\t(17, 17)\t\t(7, 7)  0.0  0.0\n",
      "-------------------------------------------------------------------------------------------------------\n",
      "\n",
      "\n",
      "-----------------------------------------------------------------------\n",
      "Négociation par Monotonic Concession Protocol entre les agents 2 et 3 :\n",
      "-----------------------------------------------------------------------\n",
      "Point de conflit : [13, 7]\n",
      "Allocation avec bargaining :\n",
      "{((4, 5, 2, 3, 1, 6), ()): (2, 20), ((4, 2, 3, 1, 6), (5,)): (4, 19), ((4, 2, 3, 1), (5, 6)): (10, 16), ((4, 2), (5, 3, 1, 6)): (15, 9), ((4, 3, 1), (5, 2, 6)): (14, 10), ((4,), (5, 2, 3, 1, 6)): (19, 5), ((2, 3, 1), (4, 5, 6)): (12, 12), ((2,), (4, 5, 3, 1, 6)): (17, 7), ((3, 1), (4, 5, 2, 6)): (16, 8), ((), (4, 5, 2, 3, 1, 6)): (20, 3)}\n",
      "Round 1 :\n",
      "L'agent 3 concède.\n",
      "Round 2 :\n",
      "Agent 3 : Mauvaise concession ! Je ne concède pas ((4, 2, 3, 1, 6), (5,)) !\n",
      "Round 2 :\n",
      "L'agent 2 concède.\n",
      "Round 3 :\n",
      "L'agent 3 concède.\n",
      "Round 4 :\n",
      "Agent 3 : Mauvaise concession ! Je ne concède pas ((4, 2, 3, 1), (5, 6)) !\n",
      "Round 4 :\n",
      "L'agent 2 concède.\n",
      "Round 5 :\n",
      "L'agent 3 concède.\n",
      "Round 6 :\n",
      "Agent 3 : Mauvaise concession ! Je ne concède pas ((2, 3, 1), (4, 5, 6)) !\n",
      "Round 6 :\n",
      "L'agent 2 concède.\n",
      "Round 7 :\n",
      "L'agent 3 concède.\n",
      "Round 8 :\n",
      "L'agent 2 et l'agent 3 concèdent.\n",
      "Round 9 :\n",
      "L'agent 2 et l'agent 3 concèdent.\n",
      "u1a2 >= u1a1 and u2a1 >= u2a2\n",
      "flip a coin because both agents agree\n",
      "agreement : [((4, 2), (5, 3, 1, 6)), 15, 9]\n",
      "nash_products : 4\n",
      "-------------------------------------------------------------------------------------------------------\n",
      "Négociation entre les agents 2 et 3 :\n",
      "round \t\toffer_a2 \t\toffer_a3 \t\tu2a2,u2a3 \tu3a2,u3a3   z2  z3\n",
      "1\t\t((), (4, 5, 2, 3, 1, 6))\t\t((4, 5, 2, 3, 1, 6), ())\t\t(20, 2)\t\t(3, 20)  2.5714285714285716  1.3076923076923077\n",
      "2\t\t((), (4, 5, 2, 3, 1, 6))\t\t((4, 2, 3, 1), (5, 6))\t\t(20, 10)\t\t(3, 16)  1.4285714285714286  1.4444444444444444\n",
      "3\t\t((4,), (5, 2, 3, 1, 6))\t\t((4, 2, 3, 1, 6), (5,))\t\t(19, 4)\t\t(5, 19)  2.5  1.1666666666666667\n",
      "4\t\t((4,), (5, 2, 3, 1, 6))\t\t((2, 3, 1), (4, 5, 6))\t\t(19, 12)\t\t(5, 12)  1.1666666666666667  1.4\n",
      "5\t\t((2,), (4, 5, 3, 1, 6))\t\t((4, 2, 3, 1), (5, 6))\t\t(17, 10)\t\t(7, 16)  1.75  1.0\n",
      "6\t\t((2,), (4, 5, 3, 1, 6))\t\t((4, 3, 1), (5, 2, 6))\t\t(17, 14)\t\t(7, 10)  0.75  1.0\n",
      "7\t\t((3, 1), (4, 5, 2, 6))\t\t((2, 3, 1), (4, 5, 6))\t\t(16, 12)\t\t(8, 12)  1.3333333333333333  0.8\n",
      "8\t\t((3, 1), (4, 5, 2, 6))\t\t((4, 3, 1), (5, 2, 6))\t\t(16, 14)\t\t(8, 10)  0.6666666666666666  0.6666666666666666\n",
      "9\t\t((4, 2), (5, 3, 1, 6))\t\t((4, 2), (5, 3, 1, 6))\t\t(15, 15)\t\t(9, 9)  0.0  0.0\n",
      "-------------------------------------------------------------------------------------------------------\n",
      "\n",
      "\n",
      "Balanced outcome. End.\n"
     ]
    }
   ],
   "source": [
    "d_line = 100\n",
    "res.negotiation(line,d_line,greaterValue_line)"
   ]
  },
  {
   "cell_type": "code",
   "execution_count": 5,
   "metadata": {},
   "outputs": [
    {
     "data": {
      "image/png": "[encoded data removed]",
      "text/plain": [
       "<Figure size 432x432 with 1 Axes>"
      ]
     },
     "metadata": {
      "needs_background": "light"
     },
     "output_type": "display_data"
    },
    {
     "name": "stdout",
     "output_type": "stream",
     "text": [
      "Caractéristiques du problème :\n",
      "\n",
      "Agents : {1: (2, 4), 2: (5, 1)}\n",
      "Objets : {1: (4, 4), 2: (1, 3), 3: (3, 1)}\n",
      "Distance de perception des agents : 10\n",
      "Objets visibles par les agents : {1: [(4, 4), (1, 3), (3, 1)], 2: [(4, 4), (1, 3), (3, 1)]}\n",
      "Ensembles Z : {(1, 2): [(1, 3), (4, 4), (3, 1)]}\n",
      "Coût de la plus grande tournée : 10\n",
      "Valeur supplémantaire ajoutée à : 0\n",
      "Valeur plus grande que le coût de la plus grande tournée possible : 10\n",
      "\n",
      "-----------------------------------------------------------------------\n",
      "Négociation par Monotonic Concession Protocol entre les agents 1 et 2 :\n",
      "-----------------------------------------------------------------------\n",
      "Point de conflit : [0, 0]\n",
      "Allocation avec bargaining :\n",
      "{((2, 1, 3), ()): (0, 10), ((2, 1), (3,)): (4, 8), ((2,), (1, 3)): (8, 4), ((), (2, 1, 3)): (10, 0)}\n",
      "Round 1 :\n",
      "L'agent 1 et l'agent 2 concèdent.\n",
      "Round 2 :\n",
      "L'agent 1 et l'agent 2 concèdent.\n",
      "Round 3 :\n",
      "L'agent 1 et l'agent 2 concèdent.\n",
      "u1a2 >= u1a1 and u2a1 >= u2a2\n",
      "flip a coin because both agents agree\n",
      "agreement : [((2,), (1, 3)), 8, 4]\n",
      "nash_products : 32\n",
      "-------------------------------------------------------------------------------------------------------\n",
      "Négociation entre les agents 1 et 2 :\n",
      "round \t\toffer_a1 \t\toffer_a2 \t\tu1a1,u1a2 \tu2a1,u2a2   z1  z2\n",
      "1\t\t((), (2, 1, 3))\t\t((2, 1, 3), ())\t\t(10, 0)\t\t(0, 10)  1.0  1.0\n",
      "2\t\t((2,), (1, 3))\t\t((2, 1), (3,))\t\t(8, 4)\t\t(4, 8)  0.5  0.5\n",
      "3\t\t((2, 1), (3,))\t\t((2,), (1, 3))\t\t(4, 8)\t\t(8, 4)  -1.0  -1.0\n",
      "-------------------------------------------------------------------------------------------------------\n",
      "\n",
      "\n",
      "Balanced outcome. End.\n"
     ]
    }
   ],
   "source": [
    "earth = env.World(6)\n",
    "agents_earth = earth.create_agents([(2,4),(5, 1)])\n",
    "objects_earth = earth.create_objects([(4,4),(1,3),(3,1)])\n",
    "d_earth = 10\n",
    "greaterValue_earth = 0\n",
    "earth.display_grid()\n",
    "res.negotiation(earth, d_earth, greaterValue_earth)"
   ]
  },
  {
   "cell_type": "markdown",
   "metadata": {},
   "source": [
    "## Monotonic Concession Protocols for Multilateral Negotiation"
   ]
  },
  {
   "cell_type": "code",
   "execution_count": 6,
   "metadata": {},
   "outputs": [
    {
     "data": {
      "image/png": "[encoded data removed]",
      "text/plain": [
       "<Figure size 432x432 with 1 Axes>"
      ]
     },
     "metadata": {
      "needs_background": "light"
     },
     "output_type": "display_data"
    }
   ],
   "source": [
    "circle = env.World(11)\n",
    "agents_circle = circle.create_agents([(6,8),(4,6),(8,6)])\n",
    "objects_circle = circle.create_objects([(1,1)])\n",
    "d_circle = 100\n",
    "greaterValue_circle = 2\n",
    "circle.display_grid()"
   ]
  },
  {
   "cell_type": "code",
   "execution_count": null,
   "metadata": {},
   "outputs": [],
   "source": []
  }
 ],
 "metadata": {
  "kernelspec": {
   "display_name": "Python 3",
   "language": "python",
   "name": "python3"
  },
  "language_info": {
   "codemirror_mode": {
    "name": "ipython",
    "version": 3
   },
   "file_extension": ".py",
   "mimetype": "text/x-python",
   "name": "python",
   "nbconvert_exporter": "python",
   "pygments_lexer": "ipython3",
   "version": "3.7.9"
  }
 },
 "nbformat": 4,
 "nbformat_minor": 4
}
